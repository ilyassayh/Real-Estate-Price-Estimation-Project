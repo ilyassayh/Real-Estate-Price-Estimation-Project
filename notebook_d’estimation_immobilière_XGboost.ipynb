{
 "cells": [
  {
   "cell_type": "markdown",
   "metadata": {
    "id": "f9f896af"
   },
   "source": [
    "# 📦 Importation des bibliothèques nécessaires pour la manipulation des données et la visualisation."
   ]
  },
  {
   "cell_type": "code",
   "execution_count": 1,
   "metadata": {
    "id": "F0jpom-0qn0j"
   },
   "outputs": [],
   "source": [
    "import pandas as pd\n",
    "import matplotlib.pyplot as plt\n",
    "import seaborn as sns"
   ]
  },
  {
   "cell_type": "markdown",
   "metadata": {
    "id": "01a95562"
   },
   "source": [
    "# 📥 Chargement du jeu de données Avito et affichage de sa taille (nombre de lignes et de colonnes)."
   ]
  },
  {
   "cell_type": "code",
   "execution_count": 2,
   "metadata": {
    "colab": {
     "base_uri": "https://localhost:8080/"
    },
    "id": "AdLWEYVzqvQ7",
    "outputId": "74f79d5f-5812-42d9-e080-a9301bf8d0d7"
   },
   "outputs": [
    {
     "data": {
      "text/plain": [
       "(1773, 9)"
      ]
     },
     "execution_count": 2,
     "metadata": {},
     "output_type": "execute_result"
    }
   ],
   "source": [
    "df = pd.read_csv('data_avito.csv')\n",
    "df.shape"
   ]
  },
  {
   "cell_type": "markdown",
   "metadata": {
    "id": "173cc751"
   },
   "source": [
    "# 👀 Affichage des premières lignes du jeu de données pour un aperçu rapide."
   ]
  },
  {
   "cell_type": "code",
   "execution_count": 3,
   "metadata": {
    "colab": {
     "base_uri": "https://localhost:8080/",
     "height": 521
    },
    "id": "bJYkiciPq2TO",
    "outputId": "08be71f8-22a9-4a0f-d317-14a1fdea7b2c"
   },
   "outputs": [
    {
     "data": {
      "application/vnd.google.colaboratory.intrinsic+json": {
       "summary": "{\n  \"name\": \"df\",\n  \"rows\": 1773,\n  \"fields\": [\n    {\n      \"column\": \"title\",\n      \"properties\": {\n        \"dtype\": \"string\",\n        \"num_unique_values\": 1471,\n        \"samples\": [\n          \"Appartement 134m2 \\u00e0 Temara\",\n          \"CMN-MA-1701 - Appartement \\u00e0 vendre \\u00e0 Massira Khadra\",\n          \"appart neuf 5 min malabata syndic ascenseur\"\n        ],\n        \"semantic_type\": \"\",\n        \"description\": \"\"\n      }\n    },\n    {\n      \"column\": \"price\",\n      \"properties\": {\n        \"dtype\": \"category\",\n        \"num_unique_values\": 355,\n        \"samples\": [\n          \"759\\u202f900 DH\",\n          \"740\\u202f000 DH\",\n          \"825\\u202f000 DH\"\n        ],\n        \"semantic_type\": \"\",\n        \"description\": \"\"\n      }\n    },\n    {\n      \"column\": \"city_name\",\n      \"properties\": {\n        \"dtype\": \"category\",\n        \"num_unique_values\": 77,\n        \"samples\": [\n          \"Asilah\",\n          \"\\u0627\\u0644\\u0645\\u062d\\u0645\\u062f\\u064a\\u0629\",\n          \"Sal\\u00e9\"\n        ],\n        \"semantic_type\": \"\",\n        \"description\": \"\"\n      }\n    },\n    {\n      \"column\": \"salon\",\n      \"properties\": {\n        \"dtype\": \"number\",\n        \"std\": 0.5575391805534458,\n        \"min\": 0.0,\n        \"max\": 8.0,\n        \"num_unique_values\": 7,\n        \"samples\": [\n          1.0,\n          2.0,\n          5.0\n        ],\n        \"semantic_type\": \"\",\n        \"description\": \"\"\n      }\n    },\n    {\n      \"column\": \"nb_rooms\",\n      \"properties\": {\n        \"dtype\": \"number\",\n        \"std\": 0.6671587227095801,\n        \"min\": 1.0,\n        \"max\": 7.0,\n        \"num_unique_values\": 7,\n        \"samples\": [\n          2.0,\n          1.0,\n          6.0\n        ],\n        \"semantic_type\": \"\",\n        \"description\": \"\"\n      }\n    },\n    {\n      \"column\": \"nb_baths\",\n      \"properties\": {\n        \"dtype\": \"number\",\n        \"std\": 7.629128117761365,\n        \"min\": 0.0,\n        \"max\": 134.0,\n        \"num_unique_values\": 16,\n        \"samples\": [\n          2.0,\n          1.0,\n          110.0\n        ],\n        \"semantic_type\": \"\",\n        \"description\": \"\"\n      }\n    },\n    {\n      \"column\": \"surface_area\",\n      \"properties\": {\n        \"dtype\": \"number\",\n        \"std\": 2969.5006931493253,\n        \"min\": 1.0,\n        \"max\": 123456.0,\n        \"num_unique_values\": 192,\n        \"samples\": [\n          86.0,\n          124.0,\n          79.0\n        ],\n        \"semantic_type\": \"\",\n        \"description\": \"\"\n      }\n    },\n    {\n      \"column\": \"equipment\",\n      \"properties\": {\n        \"dtype\": \"category\",\n        \"num_unique_values\": 321,\n        \"samples\": [\n          \"Concierge/Cuisine \\u00c9quip\\u00e9e/Parking/S\\u00e9curit\\u00e9\",\n          \"Ascenseur/Climatisation/Concierge/Parking/S\\u00e9curit\\u00e9/Terrasse\",\n          \"Balcon/Climatisation/Cuisine \\u00c9quip\\u00e9e/Meubl\\u00e9/Parking/S\\u00e9curit\\u00e9/Terrasse\"\n        ],\n        \"semantic_type\": \"\",\n        \"description\": \"\"\n      }\n    },\n    {\n      \"column\": \"link\",\n      \"properties\": {\n        \"dtype\": \"string\",\n        \"num_unique_values\": 1732,\n        \"samples\": [\n          \"https://www.avito.ma/fr/route_de_casablanca/appartements/Appart_route_de_Casablanca__%C3%A0_vendre__53540972.htm\",\n          \"https://www.avito.ma/fr/marjane_2/appartements/Appartement_%C3%A0_vendre_73_m%C2%B2_%C3%A0_Mekn%C3%A8s_55818178.htm\",\n          \"https://www.avito.ma/fr/tabriquet/appartements/Appartement_%C3%A0_vendre_122_m%C2%B2_%C3%A0_Sal%C3%A9_55342074.htm\"\n        ],\n        \"semantic_type\": \"\",\n        \"description\": \"\"\n      }\n    }\n  ]\n}",
       "type": "dataframe",
       "variable_name": "df"
      },
      "text/html": [
       "\n",
       "  <div id=\"df-ac3b4f0f-3267-4bd3-855a-1fd320c50a01\" class=\"colab-df-container\">\n",
       "    <div>\n",
       "<style scoped>\n",
       "    .dataframe tbody tr th:only-of-type {\n",
       "        vertical-align: middle;\n",
       "    }\n",
       "\n",
       "    .dataframe tbody tr th {\n",
       "        vertical-align: top;\n",
       "    }\n",
       "\n",
       "    .dataframe thead th {\n",
       "        text-align: right;\n",
       "    }\n",
       "</style>\n",
       "<table border=\"1\" class=\"dataframe\">\n",
       "  <thead>\n",
       "    <tr style=\"text-align: right;\">\n",
       "      <th></th>\n",
       "      <th>title</th>\n",
       "      <th>price</th>\n",
       "      <th>city_name</th>\n",
       "      <th>salon</th>\n",
       "      <th>nb_rooms</th>\n",
       "      <th>nb_baths</th>\n",
       "      <th>surface_area</th>\n",
       "      <th>equipment</th>\n",
       "      <th>link</th>\n",
       "    </tr>\n",
       "  </thead>\n",
       "  <tbody>\n",
       "    <tr>\n",
       "      <th>0</th>\n",
       "      <td>CMN-MA-1752 - Appartement à vendre à Palmier</td>\n",
       "      <td>2 000 000 DH</td>\n",
       "      <td>Casablanca</td>\n",
       "      <td>NaN</td>\n",
       "      <td>2.0</td>\n",
       "      <td>2.0</td>\n",
       "      <td>168.0</td>\n",
       "      <td>Ascenseur/Balcon/Parking/Terrasse</td>\n",
       "      <td>https://www.avito.ma/fr/palmier/appartements/C...</td>\n",
       "    </tr>\n",
       "    <tr>\n",
       "      <th>1</th>\n",
       "      <td>66370-Vente Appt à Casablanca Hay Hassani de 1...</td>\n",
       "      <td>1 195 000 DH</td>\n",
       "      <td>Casablanca</td>\n",
       "      <td>NaN</td>\n",
       "      <td>2.0</td>\n",
       "      <td>2.0</td>\n",
       "      <td>98.0</td>\n",
       "      <td>Ascenseur/Balcon/Chauffage/Climatisation/Cuisi...</td>\n",
       "      <td>https://www.avito.ma/fr/hay_hassani/appartemen...</td>\n",
       "    </tr>\n",
       "    <tr>\n",
       "      <th>2</th>\n",
       "      <td>Appartement à vendre 81 m² à Dar Bouazza</td>\n",
       "      <td>1 350 000 DH</td>\n",
       "      <td>Dar Bouazza</td>\n",
       "      <td>1.0</td>\n",
       "      <td>2.0</td>\n",
       "      <td>2.0</td>\n",
       "      <td>81.0</td>\n",
       "      <td>Ascenseur/Balcon/Chauffage/Climatisation/Conci...</td>\n",
       "      <td>https://www.avito.ma/fr/dar_bouazza/appartemen...</td>\n",
       "    </tr>\n",
       "    <tr>\n",
       "      <th>3</th>\n",
       "      <td>63860-Vente Appt à Casablanca Quartier Bd Med ...</td>\n",
       "      <td>900 000 DH</td>\n",
       "      <td>Casablanca</td>\n",
       "      <td>NaN</td>\n",
       "      <td>1.0</td>\n",
       "      <td>1.0</td>\n",
       "      <td>56.0</td>\n",
       "      <td>Ascenseur/Chauffage/Climatisation/Cuisine Équi...</td>\n",
       "      <td>https://www.avito.ma/fr/centre_ville/apparteme...</td>\n",
       "    </tr>\n",
       "    <tr>\n",
       "      <th>4</th>\n",
       "      <td>Appartement à Rabat Agdal</td>\n",
       "      <td>3 100 000 DH</td>\n",
       "      <td>Rabat</td>\n",
       "      <td>2.0</td>\n",
       "      <td>3.0</td>\n",
       "      <td>2.0</td>\n",
       "      <td>200.0</td>\n",
       "      <td>Ascenseur/Balcon/Concierge/Parking/Sécurité</td>\n",
       "      <td>https://www.avito.ma/fr/agdal/appartements/App...</td>\n",
       "    </tr>\n",
       "  </tbody>\n",
       "</table>\n",
       "</div>\n",
       "    <div class=\"colab-df-buttons\">\n",
       "\n",
       "  <div class=\"colab-df-container\">\n",
       "    <button class=\"colab-df-convert\" onclick=\"convertToInteractive('df-ac3b4f0f-3267-4bd3-855a-1fd320c50a01')\"\n",
       "            title=\"Convert this dataframe to an interactive table.\"\n",
       "            style=\"display:none;\">\n",
       "\n",
       "  <svg xmlns=\"http://www.w3.org/2000/svg\" height=\"24px\" viewBox=\"0 -960 960 960\">\n",
       "    <path d=\"M120-120v-720h720v720H120Zm60-500h600v-160H180v160Zm220 220h160v-160H400v160Zm0 220h160v-160H400v160ZM180-400h160v-160H180v160Zm440 0h160v-160H620v160ZM180-180h160v-160H180v160Zm440 0h160v-160H620v160Z\"/>\n",
       "  </svg>\n",
       "    </button>\n",
       "\n",
       "  <style>\n",
       "    .colab-df-container {\n",
       "      display:flex;\n",
       "      gap: 12px;\n",
       "    }\n",
       "\n",
       "    .colab-df-convert {\n",
       "      background-color: #E8F0FE;\n",
       "      border: none;\n",
       "      border-radius: 50%;\n",
       "      cursor: pointer;\n",
       "      display: none;\n",
       "      fill: #1967D2;\n",
       "      height: 32px;\n",
       "      padding: 0 0 0 0;\n",
       "      width: 32px;\n",
       "    }\n",
       "\n",
       "    .colab-df-convert:hover {\n",
       "      background-color: #E2EBFA;\n",
       "      box-shadow: 0px 1px 2px rgba(60, 64, 67, 0.3), 0px 1px 3px 1px rgba(60, 64, 67, 0.15);\n",
       "      fill: #174EA6;\n",
       "    }\n",
       "\n",
       "    .colab-df-buttons div {\n",
       "      margin-bottom: 4px;\n",
       "    }\n",
       "\n",
       "    [theme=dark] .colab-df-convert {\n",
       "      background-color: #3B4455;\n",
       "      fill: #D2E3FC;\n",
       "    }\n",
       "\n",
       "    [theme=dark] .colab-df-convert:hover {\n",
       "      background-color: #434B5C;\n",
       "      box-shadow: 0px 1px 3px 1px rgba(0, 0, 0, 0.15);\n",
       "      filter: drop-shadow(0px 1px 2px rgba(0, 0, 0, 0.3));\n",
       "      fill: #FFFFFF;\n",
       "    }\n",
       "  </style>\n",
       "\n",
       "    <script>\n",
       "      const buttonEl =\n",
       "        document.querySelector('#df-ac3b4f0f-3267-4bd3-855a-1fd320c50a01 button.colab-df-convert');\n",
       "      buttonEl.style.display =\n",
       "        google.colab.kernel.accessAllowed ? 'block' : 'none';\n",
       "\n",
       "      async function convertToInteractive(key) {\n",
       "        const element = document.querySelector('#df-ac3b4f0f-3267-4bd3-855a-1fd320c50a01');\n",
       "        const dataTable =\n",
       "          await google.colab.kernel.invokeFunction('convertToInteractive',\n",
       "                                                    [key], {});\n",
       "        if (!dataTable) return;\n",
       "\n",
       "        const docLinkHtml = 'Like what you see? Visit the ' +\n",
       "          '<a target=\"_blank\" href=https://colab.research.google.com/notebooks/data_table.ipynb>data table notebook</a>'\n",
       "          + ' to learn more about interactive tables.';\n",
       "        element.innerHTML = '';\n",
       "        dataTable['output_type'] = 'display_data';\n",
       "        await google.colab.output.renderOutput(dataTable, element);\n",
       "        const docLink = document.createElement('div');\n",
       "        docLink.innerHTML = docLinkHtml;\n",
       "        element.appendChild(docLink);\n",
       "      }\n",
       "    </script>\n",
       "  </div>\n",
       "\n",
       "\n",
       "    <div id=\"df-599abd2c-ba37-4938-8b71-ed467622c14d\">\n",
       "      <button class=\"colab-df-quickchart\" onclick=\"quickchart('df-599abd2c-ba37-4938-8b71-ed467622c14d')\"\n",
       "                title=\"Suggest charts\"\n",
       "                style=\"display:none;\">\n",
       "\n",
       "<svg xmlns=\"http://www.w3.org/2000/svg\" height=\"24px\"viewBox=\"0 0 24 24\"\n",
       "     width=\"24px\">\n",
       "    <g>\n",
       "        <path d=\"M19 3H5c-1.1 0-2 .9-2 2v14c0 1.1.9 2 2 2h14c1.1 0 2-.9 2-2V5c0-1.1-.9-2-2-2zM9 17H7v-7h2v7zm4 0h-2V7h2v10zm4 0h-2v-4h2v4z\"/>\n",
       "    </g>\n",
       "</svg>\n",
       "      </button>\n",
       "\n",
       "<style>\n",
       "  .colab-df-quickchart {\n",
       "      --bg-color: #E8F0FE;\n",
       "      --fill-color: #1967D2;\n",
       "      --hover-bg-color: #E2EBFA;\n",
       "      --hover-fill-color: #174EA6;\n",
       "      --disabled-fill-color: #AAA;\n",
       "      --disabled-bg-color: #DDD;\n",
       "  }\n",
       "\n",
       "  [theme=dark] .colab-df-quickchart {\n",
       "      --bg-color: #3B4455;\n",
       "      --fill-color: #D2E3FC;\n",
       "      --hover-bg-color: #434B5C;\n",
       "      --hover-fill-color: #FFFFFF;\n",
       "      --disabled-bg-color: #3B4455;\n",
       "      --disabled-fill-color: #666;\n",
       "  }\n",
       "\n",
       "  .colab-df-quickchart {\n",
       "    background-color: var(--bg-color);\n",
       "    border: none;\n",
       "    border-radius: 50%;\n",
       "    cursor: pointer;\n",
       "    display: none;\n",
       "    fill: var(--fill-color);\n",
       "    height: 32px;\n",
       "    padding: 0;\n",
       "    width: 32px;\n",
       "  }\n",
       "\n",
       "  .colab-df-quickchart:hover {\n",
       "    background-color: var(--hover-bg-color);\n",
       "    box-shadow: 0 1px 2px rgba(60, 64, 67, 0.3), 0 1px 3px 1px rgba(60, 64, 67, 0.15);\n",
       "    fill: var(--button-hover-fill-color);\n",
       "  }\n",
       "\n",
       "  .colab-df-quickchart-complete:disabled,\n",
       "  .colab-df-quickchart-complete:disabled:hover {\n",
       "    background-color: var(--disabled-bg-color);\n",
       "    fill: var(--disabled-fill-color);\n",
       "    box-shadow: none;\n",
       "  }\n",
       "\n",
       "  .colab-df-spinner {\n",
       "    border: 2px solid var(--fill-color);\n",
       "    border-color: transparent;\n",
       "    border-bottom-color: var(--fill-color);\n",
       "    animation:\n",
       "      spin 1s steps(1) infinite;\n",
       "  }\n",
       "\n",
       "  @keyframes spin {\n",
       "    0% {\n",
       "      border-color: transparent;\n",
       "      border-bottom-color: var(--fill-color);\n",
       "      border-left-color: var(--fill-color);\n",
       "    }\n",
       "    20% {\n",
       "      border-color: transparent;\n",
       "      border-left-color: var(--fill-color);\n",
       "      border-top-color: var(--fill-color);\n",
       "    }\n",
       "    30% {\n",
       "      border-color: transparent;\n",
       "      border-left-color: var(--fill-color);\n",
       "      border-top-color: var(--fill-color);\n",
       "      border-right-color: var(--fill-color);\n",
       "    }\n",
       "    40% {\n",
       "      border-color: transparent;\n",
       "      border-right-color: var(--fill-color);\n",
       "      border-top-color: var(--fill-color);\n",
       "    }\n",
       "    60% {\n",
       "      border-color: transparent;\n",
       "      border-right-color: var(--fill-color);\n",
       "    }\n",
       "    80% {\n",
       "      border-color: transparent;\n",
       "      border-right-color: var(--fill-color);\n",
       "      border-bottom-color: var(--fill-color);\n",
       "    }\n",
       "    90% {\n",
       "      border-color: transparent;\n",
       "      border-bottom-color: var(--fill-color);\n",
       "    }\n",
       "  }\n",
       "</style>\n",
       "\n",
       "      <script>\n",
       "        async function quickchart(key) {\n",
       "          const quickchartButtonEl =\n",
       "            document.querySelector('#' + key + ' button');\n",
       "          quickchartButtonEl.disabled = true;  // To prevent multiple clicks.\n",
       "          quickchartButtonEl.classList.add('colab-df-spinner');\n",
       "          try {\n",
       "            const charts = await google.colab.kernel.invokeFunction(\n",
       "                'suggestCharts', [key], {});\n",
       "          } catch (error) {\n",
       "            console.error('Error during call to suggestCharts:', error);\n",
       "          }\n",
       "          quickchartButtonEl.classList.remove('colab-df-spinner');\n",
       "          quickchartButtonEl.classList.add('colab-df-quickchart-complete');\n",
       "        }\n",
       "        (() => {\n",
       "          let quickchartButtonEl =\n",
       "            document.querySelector('#df-599abd2c-ba37-4938-8b71-ed467622c14d button');\n",
       "          quickchartButtonEl.style.display =\n",
       "            google.colab.kernel.accessAllowed ? 'block' : 'none';\n",
       "        })();\n",
       "      </script>\n",
       "    </div>\n",
       "\n",
       "    </div>\n",
       "  </div>\n"
      ],
      "text/plain": [
       "                                               title         price  \\\n",
       "0       CMN-MA-1752 - Appartement à vendre à Palmier  2 000 000 DH   \n",
       "1  66370-Vente Appt à Casablanca Hay Hassani de 1...  1 195 000 DH   \n",
       "2           Appartement à vendre 81 m² à Dar Bouazza  1 350 000 DH   \n",
       "3  63860-Vente Appt à Casablanca Quartier Bd Med ...    900 000 DH   \n",
       "4                          Appartement à Rabat Agdal  3 100 000 DH   \n",
       "\n",
       "     city_name  salon  nb_rooms  nb_baths  surface_area  \\\n",
       "0   Casablanca    NaN       2.0       2.0         168.0   \n",
       "1   Casablanca    NaN       2.0       2.0          98.0   \n",
       "2  Dar Bouazza    1.0       2.0       2.0          81.0   \n",
       "3   Casablanca    NaN       1.0       1.0          56.0   \n",
       "4        Rabat    2.0       3.0       2.0         200.0   \n",
       "\n",
       "                                           equipment  \\\n",
       "0                  Ascenseur/Balcon/Parking/Terrasse   \n",
       "1  Ascenseur/Balcon/Chauffage/Climatisation/Cuisi...   \n",
       "2  Ascenseur/Balcon/Chauffage/Climatisation/Conci...   \n",
       "3  Ascenseur/Chauffage/Climatisation/Cuisine Équi...   \n",
       "4        Ascenseur/Balcon/Concierge/Parking/Sécurité   \n",
       "\n",
       "                                                link  \n",
       "0  https://www.avito.ma/fr/palmier/appartements/C...  \n",
       "1  https://www.avito.ma/fr/hay_hassani/appartemen...  \n",
       "2  https://www.avito.ma/fr/dar_bouazza/appartemen...  \n",
       "3  https://www.avito.ma/fr/centre_ville/apparteme...  \n",
       "4  https://www.avito.ma/fr/agdal/appartements/App...  "
      ]
     },
     "execution_count": 3,
     "metadata": {},
     "output_type": "execute_result"
    }
   ],
   "source": [
    "df.head()"
   ]
  },
  {
   "cell_type": "markdown",
   "metadata": {
    "id": "dc07b38b"
   },
   "source": [
    "# ℹ️ Informations générales sur le DataFrame : types de colonnes, valeurs manquantes, etc."
   ]
  },
  {
   "cell_type": "code",
   "execution_count": 4,
   "metadata": {
    "colab": {
     "base_uri": "https://localhost:8080/"
    },
    "id": "5Koj83Ywq9g_",
    "outputId": "f4084af0-d505-4e64-88b3-59b1439cc571"
   },
   "outputs": [
    {
     "name": "stdout",
     "output_type": "stream",
     "text": [
      "<class 'pandas.core.frame.DataFrame'>\n",
      "RangeIndex: 1773 entries, 0 to 1772\n",
      "Data columns (total 9 columns):\n",
      " #   Column        Non-Null Count  Dtype  \n",
      "---  ------        --------------  -----  \n",
      " 0   title         1772 non-null   object \n",
      " 1   price         1490 non-null   object \n",
      " 2   city_name     1772 non-null   object \n",
      " 3   salon         1620 non-null   float64\n",
      " 4   nb_rooms      1490 non-null   float64\n",
      " 5   nb_baths      1480 non-null   float64\n",
      " 6   surface_area  1742 non-null   float64\n",
      " 7   equipment     1402 non-null   object \n",
      " 8   link          1773 non-null   object \n",
      "dtypes: float64(4), object(5)\n",
      "memory usage: 124.8+ KB\n"
     ]
    }
   ],
   "source": [
    "df.info()"
   ]
  },
  {
   "cell_type": "markdown",
   "metadata": {
    "id": "a13d5e4a"
   },
   "source": [
    "# 📊 Statistiques descriptives sur les colonnes numériques du jeu de données."
   ]
  },
  {
   "cell_type": "code",
   "execution_count": 5,
   "metadata": {
    "colab": {
     "base_uri": "https://localhost:8080/",
     "height": 300
    },
    "id": "j_Yy2h9HrF_o",
    "outputId": "5284e8b3-51c6-4c79-8dc4-177cafd8b163"
   },
   "outputs": [
    {
     "data": {
      "application/vnd.google.colaboratory.intrinsic+json": {
       "summary": "{\n  \"name\": \"df\",\n  \"rows\": 8,\n  \"fields\": [\n    {\n      \"column\": \"salon\",\n      \"properties\": {\n        \"dtype\": \"number\",\n        \"std\": 572.1144121314225,\n        \"min\": 0.0,\n        \"max\": 1620.0,\n        \"num_unique_values\": 6,\n        \"samples\": [\n          1620.0,\n          1.267283950617284,\n          8.0\n        ],\n        \"semantic_type\": \"\",\n        \"description\": \"\"\n      }\n    },\n    {\n      \"column\": \"nb_rooms\",\n      \"properties\": {\n        \"dtype\": \"number\",\n        \"std\": 525.8866839083672,\n        \"min\": 0.6671587227095801,\n        \"max\": 1490.0,\n        \"num_unique_values\": 7,\n        \"samples\": [\n          1490.0,\n          2.379194630872483,\n          3.0\n        ],\n        \"semantic_type\": \"\",\n        \"description\": \"\"\n      }\n    },\n    {\n      \"column\": \"nb_baths\",\n      \"properties\": {\n        \"dtype\": \"number\",\n        \"std\": 517.7905310138359,\n        \"min\": 0.0,\n        \"max\": 1480.0,\n        \"num_unique_values\": 7,\n        \"samples\": [\n          1480.0,\n          2.3074324324324325,\n          2.0\n        ],\n        \"semantic_type\": \"\",\n        \"description\": \"\"\n      }\n    },\n    {\n      \"column\": \"surface_area\",\n      \"properties\": {\n        \"dtype\": \"number\",\n        \"std\": 43400.89450424811,\n        \"min\": 1.0,\n        \"max\": 123456.0,\n        \"num_unique_values\": 8,\n        \"samples\": [\n          174.93340987370837,\n          89.0,\n          1742.0\n        ],\n        \"semantic_type\": \"\",\n        \"description\": \"\"\n      }\n    }\n  ]\n}",
       "type": "dataframe"
      },
      "text/html": [
       "\n",
       "  <div id=\"df-2f125b60-5b93-4253-a7a3-2fd7f6672396\" class=\"colab-df-container\">\n",
       "    <div>\n",
       "<style scoped>\n",
       "    .dataframe tbody tr th:only-of-type {\n",
       "        vertical-align: middle;\n",
       "    }\n",
       "\n",
       "    .dataframe tbody tr th {\n",
       "        vertical-align: top;\n",
       "    }\n",
       "\n",
       "    .dataframe thead th {\n",
       "        text-align: right;\n",
       "    }\n",
       "</style>\n",
       "<table border=\"1\" class=\"dataframe\">\n",
       "  <thead>\n",
       "    <tr style=\"text-align: right;\">\n",
       "      <th></th>\n",
       "      <th>salon</th>\n",
       "      <th>nb_rooms</th>\n",
       "      <th>nb_baths</th>\n",
       "      <th>surface_area</th>\n",
       "    </tr>\n",
       "  </thead>\n",
       "  <tbody>\n",
       "    <tr>\n",
       "      <th>count</th>\n",
       "      <td>1620.000000</td>\n",
       "      <td>1490.000000</td>\n",
       "      <td>1480.000000</td>\n",
       "      <td>1742.000000</td>\n",
       "    </tr>\n",
       "    <tr>\n",
       "      <th>mean</th>\n",
       "      <td>1.267284</td>\n",
       "      <td>2.379195</td>\n",
       "      <td>2.307432</td>\n",
       "      <td>174.933410</td>\n",
       "    </tr>\n",
       "    <tr>\n",
       "      <th>std</th>\n",
       "      <td>0.557539</td>\n",
       "      <td>0.667159</td>\n",
       "      <td>7.629128</td>\n",
       "      <td>2969.500693</td>\n",
       "    </tr>\n",
       "    <tr>\n",
       "      <th>min</th>\n",
       "      <td>0.000000</td>\n",
       "      <td>1.000000</td>\n",
       "      <td>0.000000</td>\n",
       "      <td>1.000000</td>\n",
       "    </tr>\n",
       "    <tr>\n",
       "      <th>25%</th>\n",
       "      <td>1.000000</td>\n",
       "      <td>2.000000</td>\n",
       "      <td>1.000000</td>\n",
       "      <td>71.000000</td>\n",
       "    </tr>\n",
       "    <tr>\n",
       "      <th>50%</th>\n",
       "      <td>1.000000</td>\n",
       "      <td>2.000000</td>\n",
       "      <td>2.000000</td>\n",
       "      <td>89.000000</td>\n",
       "    </tr>\n",
       "    <tr>\n",
       "      <th>75%</th>\n",
       "      <td>1.000000</td>\n",
       "      <td>3.000000</td>\n",
       "      <td>2.000000</td>\n",
       "      <td>114.750000</td>\n",
       "    </tr>\n",
       "    <tr>\n",
       "      <th>max</th>\n",
       "      <td>8.000000</td>\n",
       "      <td>7.000000</td>\n",
       "      <td>134.000000</td>\n",
       "      <td>123456.000000</td>\n",
       "    </tr>\n",
       "  </tbody>\n",
       "</table>\n",
       "</div>\n",
       "    <div class=\"colab-df-buttons\">\n",
       "\n",
       "  <div class=\"colab-df-container\">\n",
       "    <button class=\"colab-df-convert\" onclick=\"convertToInteractive('df-2f125b60-5b93-4253-a7a3-2fd7f6672396')\"\n",
       "            title=\"Convert this dataframe to an interactive table.\"\n",
       "            style=\"display:none;\">\n",
       "\n",
       "  <svg xmlns=\"http://www.w3.org/2000/svg\" height=\"24px\" viewBox=\"0 -960 960 960\">\n",
       "    <path d=\"M120-120v-720h720v720H120Zm60-500h600v-160H180v160Zm220 220h160v-160H400v160Zm0 220h160v-160H400v160ZM180-400h160v-160H180v160Zm440 0h160v-160H620v160ZM180-180h160v-160H180v160Zm440 0h160v-160H620v160Z\"/>\n",
       "  </svg>\n",
       "    </button>\n",
       "\n",
       "  <style>\n",
       "    .colab-df-container {\n",
       "      display:flex;\n",
       "      gap: 12px;\n",
       "    }\n",
       "\n",
       "    .colab-df-convert {\n",
       "      background-color: #E8F0FE;\n",
       "      border: none;\n",
       "      border-radius: 50%;\n",
       "      cursor: pointer;\n",
       "      display: none;\n",
       "      fill: #1967D2;\n",
       "      height: 32px;\n",
       "      padding: 0 0 0 0;\n",
       "      width: 32px;\n",
       "    }\n",
       "\n",
       "    .colab-df-convert:hover {\n",
       "      background-color: #E2EBFA;\n",
       "      box-shadow: 0px 1px 2px rgba(60, 64, 67, 0.3), 0px 1px 3px 1px rgba(60, 64, 67, 0.15);\n",
       "      fill: #174EA6;\n",
       "    }\n",
       "\n",
       "    .colab-df-buttons div {\n",
       "      margin-bottom: 4px;\n",
       "    }\n",
       "\n",
       "    [theme=dark] .colab-df-convert {\n",
       "      background-color: #3B4455;\n",
       "      fill: #D2E3FC;\n",
       "    }\n",
       "\n",
       "    [theme=dark] .colab-df-convert:hover {\n",
       "      background-color: #434B5C;\n",
       "      box-shadow: 0px 1px 3px 1px rgba(0, 0, 0, 0.15);\n",
       "      filter: drop-shadow(0px 1px 2px rgba(0, 0, 0, 0.3));\n",
       "      fill: #FFFFFF;\n",
       "    }\n",
       "  </style>\n",
       "\n",
       "    <script>\n",
       "      const buttonEl =\n",
       "        document.querySelector('#df-2f125b60-5b93-4253-a7a3-2fd7f6672396 button.colab-df-convert');\n",
       "      buttonEl.style.display =\n",
       "        google.colab.kernel.accessAllowed ? 'block' : 'none';\n",
       "\n",
       "      async function convertToInteractive(key) {\n",
       "        const element = document.querySelector('#df-2f125b60-5b93-4253-a7a3-2fd7f6672396');\n",
       "        const dataTable =\n",
       "          await google.colab.kernel.invokeFunction('convertToInteractive',\n",
       "                                                    [key], {});\n",
       "        if (!dataTable) return;\n",
       "\n",
       "        const docLinkHtml = 'Like what you see? Visit the ' +\n",
       "          '<a target=\"_blank\" href=https://colab.research.google.com/notebooks/data_table.ipynb>data table notebook</a>'\n",
       "          + ' to learn more about interactive tables.';\n",
       "        element.innerHTML = '';\n",
       "        dataTable['output_type'] = 'display_data';\n",
       "        await google.colab.output.renderOutput(dataTable, element);\n",
       "        const docLink = document.createElement('div');\n",
       "        docLink.innerHTML = docLinkHtml;\n",
       "        element.appendChild(docLink);\n",
       "      }\n",
       "    </script>\n",
       "  </div>\n",
       "\n",
       "\n",
       "    <div id=\"df-69993aa2-e2e9-4275-bb06-9640cba551ed\">\n",
       "      <button class=\"colab-df-quickchart\" onclick=\"quickchart('df-69993aa2-e2e9-4275-bb06-9640cba551ed')\"\n",
       "                title=\"Suggest charts\"\n",
       "                style=\"display:none;\">\n",
       "\n",
       "<svg xmlns=\"http://www.w3.org/2000/svg\" height=\"24px\"viewBox=\"0 0 24 24\"\n",
       "     width=\"24px\">\n",
       "    <g>\n",
       "        <path d=\"M19 3H5c-1.1 0-2 .9-2 2v14c0 1.1.9 2 2 2h14c1.1 0 2-.9 2-2V5c0-1.1-.9-2-2-2zM9 17H7v-7h2v7zm4 0h-2V7h2v10zm4 0h-2v-4h2v4z\"/>\n",
       "    </g>\n",
       "</svg>\n",
       "      </button>\n",
       "\n",
       "<style>\n",
       "  .colab-df-quickchart {\n",
       "      --bg-color: #E8F0FE;\n",
       "      --fill-color: #1967D2;\n",
       "      --hover-bg-color: #E2EBFA;\n",
       "      --hover-fill-color: #174EA6;\n",
       "      --disabled-fill-color: #AAA;\n",
       "      --disabled-bg-color: #DDD;\n",
       "  }\n",
       "\n",
       "  [theme=dark] .colab-df-quickchart {\n",
       "      --bg-color: #3B4455;\n",
       "      --fill-color: #D2E3FC;\n",
       "      --hover-bg-color: #434B5C;\n",
       "      --hover-fill-color: #FFFFFF;\n",
       "      --disabled-bg-color: #3B4455;\n",
       "      --disabled-fill-color: #666;\n",
       "  }\n",
       "\n",
       "  .colab-df-quickchart {\n",
       "    background-color: var(--bg-color);\n",
       "    border: none;\n",
       "    border-radius: 50%;\n",
       "    cursor: pointer;\n",
       "    display: none;\n",
       "    fill: var(--fill-color);\n",
       "    height: 32px;\n",
       "    padding: 0;\n",
       "    width: 32px;\n",
       "  }\n",
       "\n",
       "  .colab-df-quickchart:hover {\n",
       "    background-color: var(--hover-bg-color);\n",
       "    box-shadow: 0 1px 2px rgba(60, 64, 67, 0.3), 0 1px 3px 1px rgba(60, 64, 67, 0.15);\n",
       "    fill: var(--button-hover-fill-color);\n",
       "  }\n",
       "\n",
       "  .colab-df-quickchart-complete:disabled,\n",
       "  .colab-df-quickchart-complete:disabled:hover {\n",
       "    background-color: var(--disabled-bg-color);\n",
       "    fill: var(--disabled-fill-color);\n",
       "    box-shadow: none;\n",
       "  }\n",
       "\n",
       "  .colab-df-spinner {\n",
       "    border: 2px solid var(--fill-color);\n",
       "    border-color: transparent;\n",
       "    border-bottom-color: var(--fill-color);\n",
       "    animation:\n",
       "      spin 1s steps(1) infinite;\n",
       "  }\n",
       "\n",
       "  @keyframes spin {\n",
       "    0% {\n",
       "      border-color: transparent;\n",
       "      border-bottom-color: var(--fill-color);\n",
       "      border-left-color: var(--fill-color);\n",
       "    }\n",
       "    20% {\n",
       "      border-color: transparent;\n",
       "      border-left-color: var(--fill-color);\n",
       "      border-top-color: var(--fill-color);\n",
       "    }\n",
       "    30% {\n",
       "      border-color: transparent;\n",
       "      border-left-color: var(--fill-color);\n",
       "      border-top-color: var(--fill-color);\n",
       "      border-right-color: var(--fill-color);\n",
       "    }\n",
       "    40% {\n",
       "      border-color: transparent;\n",
       "      border-right-color: var(--fill-color);\n",
       "      border-top-color: var(--fill-color);\n",
       "    }\n",
       "    60% {\n",
       "      border-color: transparent;\n",
       "      border-right-color: var(--fill-color);\n",
       "    }\n",
       "    80% {\n",
       "      border-color: transparent;\n",
       "      border-right-color: var(--fill-color);\n",
       "      border-bottom-color: var(--fill-color);\n",
       "    }\n",
       "    90% {\n",
       "      border-color: transparent;\n",
       "      border-bottom-color: var(--fill-color);\n",
       "    }\n",
       "  }\n",
       "</style>\n",
       "\n",
       "      <script>\n",
       "        async function quickchart(key) {\n",
       "          const quickchartButtonEl =\n",
       "            document.querySelector('#' + key + ' button');\n",
       "          quickchartButtonEl.disabled = true;  // To prevent multiple clicks.\n",
       "          quickchartButtonEl.classList.add('colab-df-spinner');\n",
       "          try {\n",
       "            const charts = await google.colab.kernel.invokeFunction(\n",
       "                'suggestCharts', [key], {});\n",
       "          } catch (error) {\n",
       "            console.error('Error during call to suggestCharts:', error);\n",
       "          }\n",
       "          quickchartButtonEl.classList.remove('colab-df-spinner');\n",
       "          quickchartButtonEl.classList.add('colab-df-quickchart-complete');\n",
       "        }\n",
       "        (() => {\n",
       "          let quickchartButtonEl =\n",
       "            document.querySelector('#df-69993aa2-e2e9-4275-bb06-9640cba551ed button');\n",
       "          quickchartButtonEl.style.display =\n",
       "            google.colab.kernel.accessAllowed ? 'block' : 'none';\n",
       "        })();\n",
       "      </script>\n",
       "    </div>\n",
       "\n",
       "    </div>\n",
       "  </div>\n"
      ],
      "text/plain": [
       "             salon     nb_rooms     nb_baths   surface_area\n",
       "count  1620.000000  1490.000000  1480.000000    1742.000000\n",
       "mean      1.267284     2.379195     2.307432     174.933410\n",
       "std       0.557539     0.667159     7.629128    2969.500693\n",
       "min       0.000000     1.000000     0.000000       1.000000\n",
       "25%       1.000000     2.000000     1.000000      71.000000\n",
       "50%       1.000000     2.000000     2.000000      89.000000\n",
       "75%       1.000000     3.000000     2.000000     114.750000\n",
       "max       8.000000     7.000000   134.000000  123456.000000"
      ]
     },
     "execution_count": 5,
     "metadata": {},
     "output_type": "execute_result"
    }
   ],
   "source": [
    "df.describe()"
   ]
  },
  {
   "cell_type": "markdown",
   "metadata": {
    "id": "126247b4"
   },
   "source": [
    "# 🔍 Comptage du nombre de valeurs manquantes dans chaque colonne."
   ]
  },
  {
   "cell_type": "code",
   "execution_count": 6,
   "metadata": {
    "colab": {
     "base_uri": "https://localhost:8080/",
     "height": 366
    },
    "id": "1vFeOI_arhGZ",
    "outputId": "cd574538-5a31-42d7-fa88-aa189ee85e41"
   },
   "outputs": [
    {
     "data": {
      "text/html": [
       "<div>\n",
       "<style scoped>\n",
       "    .dataframe tbody tr th:only-of-type {\n",
       "        vertical-align: middle;\n",
       "    }\n",
       "\n",
       "    .dataframe tbody tr th {\n",
       "        vertical-align: top;\n",
       "    }\n",
       "\n",
       "    .dataframe thead th {\n",
       "        text-align: right;\n",
       "    }\n",
       "</style>\n",
       "<table border=\"1\" class=\"dataframe\">\n",
       "  <thead>\n",
       "    <tr style=\"text-align: right;\">\n",
       "      <th></th>\n",
       "      <th>0</th>\n",
       "    </tr>\n",
       "  </thead>\n",
       "  <tbody>\n",
       "    <tr>\n",
       "      <th>title</th>\n",
       "      <td>1</td>\n",
       "    </tr>\n",
       "    <tr>\n",
       "      <th>price</th>\n",
       "      <td>283</td>\n",
       "    </tr>\n",
       "    <tr>\n",
       "      <th>city_name</th>\n",
       "      <td>1</td>\n",
       "    </tr>\n",
       "    <tr>\n",
       "      <th>salon</th>\n",
       "      <td>153</td>\n",
       "    </tr>\n",
       "    <tr>\n",
       "      <th>nb_rooms</th>\n",
       "      <td>283</td>\n",
       "    </tr>\n",
       "    <tr>\n",
       "      <th>nb_baths</th>\n",
       "      <td>293</td>\n",
       "    </tr>\n",
       "    <tr>\n",
       "      <th>surface_area</th>\n",
       "      <td>31</td>\n",
       "    </tr>\n",
       "    <tr>\n",
       "      <th>equipment</th>\n",
       "      <td>371</td>\n",
       "    </tr>\n",
       "    <tr>\n",
       "      <th>link</th>\n",
       "      <td>0</td>\n",
       "    </tr>\n",
       "  </tbody>\n",
       "</table>\n",
       "</div><br><label><b>dtype:</b> int64</label>"
      ],
      "text/plain": [
       "title             1\n",
       "price           283\n",
       "city_name         1\n",
       "salon           153\n",
       "nb_rooms        283\n",
       "nb_baths        293\n",
       "surface_area     31\n",
       "equipment       371\n",
       "link              0\n",
       "dtype: int64"
      ]
     },
     "execution_count": 6,
     "metadata": {},
     "output_type": "execute_result"
    }
   ],
   "source": [
    "df.isnull().sum()"
   ]
  },
  {
   "cell_type": "markdown",
   "metadata": {
    "id": "8e186fb5"
   },
   "source": [
    "# 🔁 Vérification du nombre de doublons dans le DataFrame."
   ]
  },
  {
   "cell_type": "code",
   "execution_count": 7,
   "metadata": {
    "colab": {
     "base_uri": "https://localhost:8080/"
    },
    "id": "X5WIjIQGr5AY",
    "outputId": "c058c5e3-ead2-4521-b473-b369c94e6a1c"
   },
   "outputs": [
    {
     "data": {
      "text/plain": [
       "np.int64(41)"
      ]
     },
     "execution_count": 7,
     "metadata": {},
     "output_type": "execute_result"
    }
   ],
   "source": [
    "df.duplicated().sum()"
   ]
  },
  {
   "cell_type": "markdown",
   "metadata": {
    "id": "2e2c75aa"
   },
   "source": [
    "# 🧹 Suppression des doublons pour nettoyer les données."
   ]
  },
  {
   "cell_type": "code",
   "execution_count": 8,
   "metadata": {
    "id": "Q7C4OJWdu9Il"
   },
   "outputs": [],
   "source": [
    "df = df.drop_duplicates()"
   ]
  },
  {
   "cell_type": "markdown",
   "metadata": {
    "id": "79b80663"
   },
   "source": [
    "# 📏 Affichage du nombre de lignes après suppression des doublons."
   ]
  },
  {
   "cell_type": "code",
   "execution_count": 9,
   "metadata": {
    "colab": {
     "base_uri": "https://localhost:8080/"
    },
    "id": "6zQPWFed0Ndg",
    "outputId": "eeeaf182-42fb-4073-a1c9-6671a65fcbb7"
   },
   "outputs": [
    {
     "data": {
      "text/plain": [
       "1732"
      ]
     },
     "execution_count": 9,
     "metadata": {},
     "output_type": "execute_result"
    }
   ],
   "source": [
    "len(df)"
   ]
  },
  {
   "cell_type": "markdown",
   "metadata": {
    "id": "d8988c12"
   },
   "source": [
    "# 💰 Nettoyage de la colonne 'price' : suppression du texte 'DH' et des espaces, conversion en float."
   ]
  },
  {
   "cell_type": "code",
   "execution_count": 10,
   "metadata": {
    "colab": {
     "base_uri": "https://localhost:8080/"
    },
    "id": "JBQYVxJG0UZm",
    "outputId": "02752de4-259a-4d8f-fac9-6a33dde8666e"
   },
   "outputs": [
    {
     "name": "stderr",
     "output_type": "stream",
     "text": [
      "/tmp/ipython-input-10-2638613262.py:1: SettingWithCopyWarning: \n",
      "A value is trying to be set on a copy of a slice from a DataFrame.\n",
      "Try using .loc[row_indexer,col_indexer] = value instead\n",
      "\n",
      "See the caveats in the documentation: https://pandas.pydata.org/pandas-docs/stable/user_guide/indexing.html#returning-a-view-versus-a-copy\n",
      "  df['price'] = df['price'].str.replace('DH', '', regex=False)\n",
      "/tmp/ipython-input-10-2638613262.py:2: SettingWithCopyWarning: \n",
      "A value is trying to be set on a copy of a slice from a DataFrame.\n",
      "Try using .loc[row_indexer,col_indexer] = value instead\n",
      "\n",
      "See the caveats in the documentation: https://pandas.pydata.org/pandas-docs/stable/user_guide/indexing.html#returning-a-view-versus-a-copy\n",
      "  df['price'] = df['price'].str.replace(' ', '', regex=False)\n",
      "/tmp/ipython-input-10-2638613262.py:3: SettingWithCopyWarning: \n",
      "A value is trying to be set on a copy of a slice from a DataFrame.\n",
      "Try using .loc[row_indexer,col_indexer] = value instead\n",
      "\n",
      "See the caveats in the documentation: https://pandas.pydata.org/pandas-docs/stable/user_guide/indexing.html#returning-a-view-versus-a-copy\n",
      "  df['price'] = df['price'].astype(float)\n"
     ]
    }
   ],
   "source": [
    "df['price'] = df['price'].str.replace('DH', '', regex=False)\n",
    "df['price'] = df['price'].str.replace(' ', '', regex=False)\n",
    "df['price'] = df['price'].astype(float)"
   ]
  },
  {
   "cell_type": "markdown",
   "metadata": {
    "id": "95d5bcb0"
   },
   "source": [
    "# 🛠️ Remplacement des valeurs manquantes dans 'equipment' par 'Unknown'."
   ]
  },
  {
   "cell_type": "code",
   "execution_count": 11,
   "metadata": {
    "colab": {
     "base_uri": "https://localhost:8080/"
    },
    "id": "z--FIefJanQ9",
    "outputId": "e1ea16c1-bb12-40b6-c7a0-dc3404d1f93b"
   },
   "outputs": [
    {
     "name": "stderr",
     "output_type": "stream",
     "text": [
      "/tmp/ipython-input-11-2159125861.py:1: SettingWithCopyWarning: \n",
      "A value is trying to be set on a copy of a slice from a DataFrame.\n",
      "Try using .loc[row_indexer,col_indexer] = value instead\n",
      "\n",
      "See the caveats in the documentation: https://pandas.pydata.org/pandas-docs/stable/user_guide/indexing.html#returning-a-view-versus-a-copy\n",
      "  df['equipment'] = df['equipment'].fillna(\"Unknown\")\n"
     ]
    }
   ],
   "source": [
    "df['equipment'] = df['equipment'].fillna(\"Unknown\")"
   ]
  },
  {
   "cell_type": "markdown",
   "metadata": {
    "id": "9ac8807b"
   },
   "source": [
    "# 🏷️ Transformation de la colonne 'equipment' en variables indicatrices (one-hot encoding)."
   ]
  },
  {
   "cell_type": "code",
   "execution_count": 12,
   "metadata": {
    "id": "cmGdSgNudPNn"
   },
   "outputs": [],
   "source": [
    "equipments_dummies = df['equipment'].str.get_dummies(sep='/')"
   ]
  },
  {
   "cell_type": "markdown",
   "metadata": {
    "id": "005000cf"
   },
   "source": [
    "# ➕ Ajout des colonnes d'équipements encodées au DataFrame principal."
   ]
  },
  {
   "cell_type": "code",
   "execution_count": 13,
   "metadata": {
    "id": "jJWlujnzdYiJ"
   },
   "outputs": [],
   "source": [
    "df = pd.concat([df, equipments_dummies], axis=1)"
   ]
  },
  {
   "cell_type": "markdown",
   "metadata": {
    "id": "a4bc238b"
   },
   "source": [
    "# 🗑️ Suppression de la colonne originale 'equipment' devenue inutile."
   ]
  },
  {
   "cell_type": "code",
   "execution_count": 14,
   "metadata": {
    "id": "fP1YdzaoddMZ"
   },
   "outputs": [],
   "source": [
    "df = df.drop(columns=['equipment'])"
   ]
  },
  {
   "cell_type": "markdown",
   "metadata": {
    "id": "bef438df"
   },
   "source": [
    "# 👀 Affichage des 10 premières lignes du DataFrame après transformation."
   ]
  },
  {
   "cell_type": "code",
   "execution_count": 15,
   "metadata": {
    "colab": {
     "base_uri": "https://localhost:8080/",
     "height": 1000
    },
    "collapsed": true,
    "id": "SAAfg-C4dhEY",
    "outputId": "e6dffc09-b8da-4611-cb5d-f7da68e91786"
   },
   "outputs": [
    {
     "data": {
      "application/vnd.google.colaboratory.intrinsic+json": {
       "summary": "{\n  \"name\": \"df\",\n  \"rows\": 1732,\n  \"fields\": [\n    {\n      \"column\": \"title\",\n      \"properties\": {\n        \"dtype\": \"string\",\n        \"num_unique_values\": 1471,\n        \"samples\": [\n          \"Appartement 134m2 \\u00e0 Temara\",\n          \"CMN-MA-1701 - Appartement \\u00e0 vendre \\u00e0 Massira Khadra\",\n          \"appart neuf 5 min malabata syndic ascenseur\"\n        ],\n        \"semantic_type\": \"\",\n        \"description\": \"\"\n      }\n    },\n    {\n      \"column\": \"price\",\n      \"properties\": {\n        \"dtype\": \"number\",\n        \"std\": 1276079.852881359,\n        \"min\": 35.0,\n        \"max\": 24000000.0,\n        \"num_unique_values\": 355,\n        \"samples\": [\n          759900.0,\n          740000.0,\n          825000.0\n        ],\n        \"semantic_type\": \"\",\n        \"description\": \"\"\n      }\n    },\n    {\n      \"column\": \"city_name\",\n      \"properties\": {\n        \"dtype\": \"category\",\n        \"num_unique_values\": 77,\n        \"samples\": [\n          \"Asilah\",\n          \"\\u0627\\u0644\\u0645\\u062d\\u0645\\u062f\\u064a\\u0629\",\n          \"Sal\\u00e9\"\n        ],\n        \"semantic_type\": \"\",\n        \"description\": \"\"\n      }\n    },\n    {\n      \"column\": \"salon\",\n      \"properties\": {\n        \"dtype\": \"number\",\n        \"std\": 0.5551929750200603,\n        \"min\": 0.0,\n        \"max\": 8.0,\n        \"num_unique_values\": 7,\n        \"samples\": [\n          1.0,\n          2.0,\n          5.0\n        ],\n        \"semantic_type\": \"\",\n        \"description\": \"\"\n      }\n    },\n    {\n      \"column\": \"nb_rooms\",\n      \"properties\": {\n        \"dtype\": \"number\",\n        \"std\": 0.6684067866905508,\n        \"min\": 1.0,\n        \"max\": 7.0,\n        \"num_unique_values\": 7,\n        \"samples\": [\n          2.0,\n          1.0,\n          6.0\n        ],\n        \"semantic_type\": \"\",\n        \"description\": \"\"\n      }\n    },\n    {\n      \"column\": \"nb_baths\",\n      \"properties\": {\n        \"dtype\": \"number\",\n        \"std\": 7.424765781517087,\n        \"min\": 0.0,\n        \"max\": 134.0,\n        \"num_unique_values\": 16,\n        \"samples\": [\n          2.0,\n          1.0,\n          110.0\n        ],\n        \"semantic_type\": \"\",\n        \"description\": \"\"\n      }\n    },\n    {\n      \"column\": \"surface_area\",\n      \"properties\": {\n        \"dtype\": \"number\",\n        \"std\": 3005.066250535742,\n        \"min\": 1.0,\n        \"max\": 123456.0,\n        \"num_unique_values\": 192,\n        \"samples\": [\n          86.0,\n          124.0,\n          79.0\n        ],\n        \"semantic_type\": \"\",\n        \"description\": \"\"\n      }\n    },\n    {\n      \"column\": \"link\",\n      \"properties\": {\n        \"dtype\": \"string\",\n        \"num_unique_values\": 1732,\n        \"samples\": [\n          \"https://www.avito.ma/fr/route_de_casablanca/appartements/Appart_route_de_Casablanca__%C3%A0_vendre__53540972.htm\",\n          \"https://www.avito.ma/fr/marjane_2/appartements/Appartement_%C3%A0_vendre_73_m%C2%B2_%C3%A0_Mekn%C3%A8s_55818178.htm\",\n          \"https://www.avito.ma/fr/tabriquet/appartements/Appartement_%C3%A0_vendre_122_m%C2%B2_%C3%A0_Sal%C3%A9_55342074.htm\"\n        ],\n        \"semantic_type\": \"\",\n        \"description\": \"\"\n      }\n    },\n    {\n      \"column\": \"Ascenseur\",\n      \"properties\": {\n        \"dtype\": \"number\",\n        \"std\": 0,\n        \"min\": 0,\n        \"max\": 1,\n        \"num_unique_values\": 2,\n        \"samples\": [\n          0,\n          1\n        ],\n        \"semantic_type\": \"\",\n        \"description\": \"\"\n      }\n    },\n    {\n      \"column\": \"Balcon\",\n      \"properties\": {\n        \"dtype\": \"number\",\n        \"std\": 0,\n        \"min\": 0,\n        \"max\": 1,\n        \"num_unique_values\": 2,\n        \"samples\": [\n          0,\n          1\n        ],\n        \"semantic_type\": \"\",\n        \"description\": \"\"\n      }\n    },\n    {\n      \"column\": \"Chauffage\",\n      \"properties\": {\n        \"dtype\": \"number\",\n        \"std\": 0,\n        \"min\": 0,\n        \"max\": 1,\n        \"num_unique_values\": 2,\n        \"samples\": [\n          1,\n          0\n        ],\n        \"semantic_type\": \"\",\n        \"description\": \"\"\n      }\n    },\n    {\n      \"column\": \"Climatisation\",\n      \"properties\": {\n        \"dtype\": \"number\",\n        \"std\": 0,\n        \"min\": 0,\n        \"max\": 1,\n        \"num_unique_values\": 2,\n        \"samples\": [\n          1,\n          0\n        ],\n        \"semantic_type\": \"\",\n        \"description\": \"\"\n      }\n    },\n    {\n      \"column\": \"Concierge\",\n      \"properties\": {\n        \"dtype\": \"number\",\n        \"std\": 0,\n        \"min\": 0,\n        \"max\": 1,\n        \"num_unique_values\": 2,\n        \"samples\": [\n          1,\n          0\n        ],\n        \"semantic_type\": \"\",\n        \"description\": \"\"\n      }\n    },\n    {\n      \"column\": \"Cuisine \\u00c9quip\\u00e9e\",\n      \"properties\": {\n        \"dtype\": \"number\",\n        \"std\": 0,\n        \"min\": 0,\n        \"max\": 1,\n        \"num_unique_values\": 2,\n        \"samples\": [\n          1,\n          0\n        ],\n        \"semantic_type\": \"\",\n        \"description\": \"\"\n      }\n    },\n    {\n      \"column\": \"Duplex\",\n      \"properties\": {\n        \"dtype\": \"number\",\n        \"std\": 0,\n        \"min\": 0,\n        \"max\": 1,\n        \"num_unique_values\": 2,\n        \"samples\": [\n          1,\n          0\n        ],\n        \"semantic_type\": \"\",\n        \"description\": \"\"\n      }\n    },\n    {\n      \"column\": \"Meubl\\u00e9\",\n      \"properties\": {\n        \"dtype\": \"number\",\n        \"std\": 0,\n        \"min\": 0,\n        \"max\": 1,\n        \"num_unique_values\": 2,\n        \"samples\": [\n          1,\n          0\n        ],\n        \"semantic_type\": \"\",\n        \"description\": \"\"\n      }\n    },\n    {\n      \"column\": \"Parking\",\n      \"properties\": {\n        \"dtype\": \"number\",\n        \"std\": 0,\n        \"min\": 0,\n        \"max\": 1,\n        \"num_unique_values\": 2,\n        \"samples\": [\n          0,\n          1\n        ],\n        \"semantic_type\": \"\",\n        \"description\": \"\"\n      }\n    },\n    {\n      \"column\": \"S\\u00e9curit\\u00e9\",\n      \"properties\": {\n        \"dtype\": \"number\",\n        \"std\": 0,\n        \"min\": 0,\n        \"max\": 1,\n        \"num_unique_values\": 2,\n        \"samples\": [\n          1,\n          0\n        ],\n        \"semantic_type\": \"\",\n        \"description\": \"\"\n      }\n    },\n    {\n      \"column\": \"Terrasse\",\n      \"properties\": {\n        \"dtype\": \"number\",\n        \"std\": 0,\n        \"min\": 0,\n        \"max\": 1,\n        \"num_unique_values\": 2,\n        \"samples\": [\n          0,\n          1\n        ],\n        \"semantic_type\": \"\",\n        \"description\": \"\"\n      }\n    },\n    {\n      \"column\": \"Unknown\",\n      \"properties\": {\n        \"dtype\": \"number\",\n        \"std\": 0,\n        \"min\": 0,\n        \"max\": 1,\n        \"num_unique_values\": 2,\n        \"samples\": [\n          1,\n          0\n        ],\n        \"semantic_type\": \"\",\n        \"description\": \"\"\n      }\n    }\n  ]\n}",
       "type": "dataframe",
       "variable_name": "df"
      },
      "text/html": [
       "\n",
       "  <div id=\"df-32a36172-84ca-4367-a676-f1bd4246e059\" class=\"colab-df-container\">\n",
       "    <div>\n",
       "<style scoped>\n",
       "    .dataframe tbody tr th:only-of-type {\n",
       "        vertical-align: middle;\n",
       "    }\n",
       "\n",
       "    .dataframe tbody tr th {\n",
       "        vertical-align: top;\n",
       "    }\n",
       "\n",
       "    .dataframe thead th {\n",
       "        text-align: right;\n",
       "    }\n",
       "</style>\n",
       "<table border=\"1\" class=\"dataframe\">\n",
       "  <thead>\n",
       "    <tr style=\"text-align: right;\">\n",
       "      <th></th>\n",
       "      <th>title</th>\n",
       "      <th>price</th>\n",
       "      <th>city_name</th>\n",
       "      <th>salon</th>\n",
       "      <th>nb_rooms</th>\n",
       "      <th>nb_baths</th>\n",
       "      <th>surface_area</th>\n",
       "      <th>link</th>\n",
       "      <th>Ascenseur</th>\n",
       "      <th>Balcon</th>\n",
       "      <th>Chauffage</th>\n",
       "      <th>Climatisation</th>\n",
       "      <th>Concierge</th>\n",
       "      <th>Cuisine Équipée</th>\n",
       "      <th>Duplex</th>\n",
       "      <th>Meublé</th>\n",
       "      <th>Parking</th>\n",
       "      <th>Sécurité</th>\n",
       "      <th>Terrasse</th>\n",
       "      <th>Unknown</th>\n",
       "    </tr>\n",
       "  </thead>\n",
       "  <tbody>\n",
       "    <tr>\n",
       "      <th>0</th>\n",
       "      <td>CMN-MA-1752 - Appartement à vendre à Palmier</td>\n",
       "      <td>2000000.0</td>\n",
       "      <td>Casablanca</td>\n",
       "      <td>NaN</td>\n",
       "      <td>2.0</td>\n",
       "      <td>2.0</td>\n",
       "      <td>168.0</td>\n",
       "      <td>https://www.avito.ma/fr/palmier/appartements/C...</td>\n",
       "      <td>1</td>\n",
       "      <td>1</td>\n",
       "      <td>0</td>\n",
       "      <td>0</td>\n",
       "      <td>0</td>\n",
       "      <td>0</td>\n",
       "      <td>0</td>\n",
       "      <td>0</td>\n",
       "      <td>1</td>\n",
       "      <td>0</td>\n",
       "      <td>1</td>\n",
       "      <td>0</td>\n",
       "    </tr>\n",
       "    <tr>\n",
       "      <th>1</th>\n",
       "      <td>66370-Vente Appt à Casablanca Hay Hassani de 1...</td>\n",
       "      <td>1195000.0</td>\n",
       "      <td>Casablanca</td>\n",
       "      <td>NaN</td>\n",
       "      <td>2.0</td>\n",
       "      <td>2.0</td>\n",
       "      <td>98.0</td>\n",
       "      <td>https://www.avito.ma/fr/hay_hassani/appartemen...</td>\n",
       "      <td>1</td>\n",
       "      <td>1</td>\n",
       "      <td>1</td>\n",
       "      <td>1</td>\n",
       "      <td>0</td>\n",
       "      <td>1</td>\n",
       "      <td>0</td>\n",
       "      <td>0</td>\n",
       "      <td>1</td>\n",
       "      <td>0</td>\n",
       "      <td>0</td>\n",
       "      <td>0</td>\n",
       "    </tr>\n",
       "    <tr>\n",
       "      <th>2</th>\n",
       "      <td>Appartement à vendre 81 m² à Dar Bouazza</td>\n",
       "      <td>1350000.0</td>\n",
       "      <td>Dar Bouazza</td>\n",
       "      <td>1.0</td>\n",
       "      <td>2.0</td>\n",
       "      <td>2.0</td>\n",
       "      <td>81.0</td>\n",
       "      <td>https://www.avito.ma/fr/dar_bouazza/appartemen...</td>\n",
       "      <td>1</td>\n",
       "      <td>1</td>\n",
       "      <td>1</td>\n",
       "      <td>1</td>\n",
       "      <td>1</td>\n",
       "      <td>1</td>\n",
       "      <td>1</td>\n",
       "      <td>0</td>\n",
       "      <td>1</td>\n",
       "      <td>1</td>\n",
       "      <td>1</td>\n",
       "      <td>0</td>\n",
       "    </tr>\n",
       "    <tr>\n",
       "      <th>3</th>\n",
       "      <td>63860-Vente Appt à Casablanca Quartier Bd Med ...</td>\n",
       "      <td>900000.0</td>\n",
       "      <td>Casablanca</td>\n",
       "      <td>NaN</td>\n",
       "      <td>1.0</td>\n",
       "      <td>1.0</td>\n",
       "      <td>56.0</td>\n",
       "      <td>https://www.avito.ma/fr/centre_ville/apparteme...</td>\n",
       "      <td>1</td>\n",
       "      <td>0</td>\n",
       "      <td>1</td>\n",
       "      <td>1</td>\n",
       "      <td>0</td>\n",
       "      <td>1</td>\n",
       "      <td>0</td>\n",
       "      <td>1</td>\n",
       "      <td>1</td>\n",
       "      <td>1</td>\n",
       "      <td>1</td>\n",
       "      <td>0</td>\n",
       "    </tr>\n",
       "    <tr>\n",
       "      <th>4</th>\n",
       "      <td>Appartement à Rabat Agdal</td>\n",
       "      <td>3100000.0</td>\n",
       "      <td>Rabat</td>\n",
       "      <td>2.0</td>\n",
       "      <td>3.0</td>\n",
       "      <td>2.0</td>\n",
       "      <td>200.0</td>\n",
       "      <td>https://www.avito.ma/fr/agdal/appartements/App...</td>\n",
       "      <td>1</td>\n",
       "      <td>1</td>\n",
       "      <td>0</td>\n",
       "      <td>0</td>\n",
       "      <td>1</td>\n",
       "      <td>0</td>\n",
       "      <td>0</td>\n",
       "      <td>0</td>\n",
       "      <td>1</td>\n",
       "      <td>1</td>\n",
       "      <td>0</td>\n",
       "      <td>0</td>\n",
       "    </tr>\n",
       "    <tr>\n",
       "      <th>5</th>\n",
       "      <td>66644-Vente Appt à Casablanca Val Fleury de 27...</td>\n",
       "      <td>3200000.0</td>\n",
       "      <td>Casablanca</td>\n",
       "      <td>NaN</td>\n",
       "      <td>4.0</td>\n",
       "      <td>2.0</td>\n",
       "      <td>215.0</td>\n",
       "      <td>https://www.avito.ma/fr/maarif/appartements/66...</td>\n",
       "      <td>1</td>\n",
       "      <td>0</td>\n",
       "      <td>1</td>\n",
       "      <td>1</td>\n",
       "      <td>0</td>\n",
       "      <td>1</td>\n",
       "      <td>0</td>\n",
       "      <td>0</td>\n",
       "      <td>1</td>\n",
       "      <td>0</td>\n",
       "      <td>1</td>\n",
       "      <td>0</td>\n",
       "    </tr>\n",
       "    <tr>\n",
       "      <th>6</th>\n",
       "      <td>Appartement à vendre 98 m² à Marrakech</td>\n",
       "      <td>760000.0</td>\n",
       "      <td>Marrakech</td>\n",
       "      <td>1.0</td>\n",
       "      <td>3.0</td>\n",
       "      <td>3.0</td>\n",
       "      <td>98.0</td>\n",
       "      <td>https://www.avito.ma/fr/akioud/appartements/Ap...</td>\n",
       "      <td>1</td>\n",
       "      <td>1</td>\n",
       "      <td>0</td>\n",
       "      <td>0</td>\n",
       "      <td>1</td>\n",
       "      <td>1</td>\n",
       "      <td>0</td>\n",
       "      <td>0</td>\n",
       "      <td>1</td>\n",
       "      <td>1</td>\n",
       "      <td>0</td>\n",
       "      <td>0</td>\n",
       "    </tr>\n",
       "    <tr>\n",
       "      <th>7</th>\n",
       "      <td>50620-Vente Appt à Casablanca Hay Mohammadi de 73</td>\n",
       "      <td>790000.0</td>\n",
       "      <td>Casablanca</td>\n",
       "      <td>NaN</td>\n",
       "      <td>3.0</td>\n",
       "      <td>2.0</td>\n",
       "      <td>73.0</td>\n",
       "      <td>https://www.avito.ma/fr/hay_mohammadi/appartem...</td>\n",
       "      <td>0</td>\n",
       "      <td>0</td>\n",
       "      <td>0</td>\n",
       "      <td>0</td>\n",
       "      <td>0</td>\n",
       "      <td>1</td>\n",
       "      <td>0</td>\n",
       "      <td>0</td>\n",
       "      <td>0</td>\n",
       "      <td>0</td>\n",
       "      <td>0</td>\n",
       "      <td>0</td>\n",
       "    </tr>\n",
       "    <tr>\n",
       "      <th>8</th>\n",
       "      <td>appartement à vendre</td>\n",
       "      <td>780000.0</td>\n",
       "      <td>Asilah</td>\n",
       "      <td>1.0</td>\n",
       "      <td>2.0</td>\n",
       "      <td>1.0</td>\n",
       "      <td>72.0</td>\n",
       "      <td>https://www.avito.ma/fr/asilah/appartements/ap...</td>\n",
       "      <td>0</td>\n",
       "      <td>1</td>\n",
       "      <td>0</td>\n",
       "      <td>0</td>\n",
       "      <td>0</td>\n",
       "      <td>1</td>\n",
       "      <td>0</td>\n",
       "      <td>1</td>\n",
       "      <td>0</td>\n",
       "      <td>1</td>\n",
       "      <td>0</td>\n",
       "      <td>0</td>\n",
       "    </tr>\n",
       "    <tr>\n",
       "      <th>9</th>\n",
       "      <td>61833-Vente Appt à Casablanca Sidi Moumen de 1...</td>\n",
       "      <td>1990000.0</td>\n",
       "      <td>Casablanca</td>\n",
       "      <td>NaN</td>\n",
       "      <td>5.0</td>\n",
       "      <td>2.0</td>\n",
       "      <td>178.0</td>\n",
       "      <td>https://www.avito.ma/fr/sidi_moumen/appartemen...</td>\n",
       "      <td>0</td>\n",
       "      <td>0</td>\n",
       "      <td>0</td>\n",
       "      <td>0</td>\n",
       "      <td>0</td>\n",
       "      <td>1</td>\n",
       "      <td>1</td>\n",
       "      <td>0</td>\n",
       "      <td>0</td>\n",
       "      <td>1</td>\n",
       "      <td>1</td>\n",
       "      <td>0</td>\n",
       "    </tr>\n",
       "  </tbody>\n",
       "</table>\n",
       "</div>\n",
       "    <div class=\"colab-df-buttons\">\n",
       "\n",
       "  <div class=\"colab-df-container\">\n",
       "    <button class=\"colab-df-convert\" onclick=\"convertToInteractive('df-32a36172-84ca-4367-a676-f1bd4246e059')\"\n",
       "            title=\"Convert this dataframe to an interactive table.\"\n",
       "            style=\"display:none;\">\n",
       "\n",
       "  <svg xmlns=\"http://www.w3.org/2000/svg\" height=\"24px\" viewBox=\"0 -960 960 960\">\n",
       "    <path d=\"M120-120v-720h720v720H120Zm60-500h600v-160H180v160Zm220 220h160v-160H400v160Zm0 220h160v-160H400v160ZM180-400h160v-160H180v160Zm440 0h160v-160H620v160ZM180-180h160v-160H180v160Zm440 0h160v-160H620v160Z\"/>\n",
       "  </svg>\n",
       "    </button>\n",
       "\n",
       "  <style>\n",
       "    .colab-df-container {\n",
       "      display:flex;\n",
       "      gap: 12px;\n",
       "    }\n",
       "\n",
       "    .colab-df-convert {\n",
       "      background-color: #E8F0FE;\n",
       "      border: none;\n",
       "      border-radius: 50%;\n",
       "      cursor: pointer;\n",
       "      display: none;\n",
       "      fill: #1967D2;\n",
       "      height: 32px;\n",
       "      padding: 0 0 0 0;\n",
       "      width: 32px;\n",
       "    }\n",
       "\n",
       "    .colab-df-convert:hover {\n",
       "      background-color: #E2EBFA;\n",
       "      box-shadow: 0px 1px 2px rgba(60, 64, 67, 0.3), 0px 1px 3px 1px rgba(60, 64, 67, 0.15);\n",
       "      fill: #174EA6;\n",
       "    }\n",
       "\n",
       "    .colab-df-buttons div {\n",
       "      margin-bottom: 4px;\n",
       "    }\n",
       "\n",
       "    [theme=dark] .colab-df-convert {\n",
       "      background-color: #3B4455;\n",
       "      fill: #D2E3FC;\n",
       "    }\n",
       "\n",
       "    [theme=dark] .colab-df-convert:hover {\n",
       "      background-color: #434B5C;\n",
       "      box-shadow: 0px 1px 3px 1px rgba(0, 0, 0, 0.15);\n",
       "      filter: drop-shadow(0px 1px 2px rgba(0, 0, 0, 0.3));\n",
       "      fill: #FFFFFF;\n",
       "    }\n",
       "  </style>\n",
       "\n",
       "    <script>\n",
       "      const buttonEl =\n",
       "        document.querySelector('#df-32a36172-84ca-4367-a676-f1bd4246e059 button.colab-df-convert');\n",
       "      buttonEl.style.display =\n",
       "        google.colab.kernel.accessAllowed ? 'block' : 'none';\n",
       "\n",
       "      async function convertToInteractive(key) {\n",
       "        const element = document.querySelector('#df-32a36172-84ca-4367-a676-f1bd4246e059');\n",
       "        const dataTable =\n",
       "          await google.colab.kernel.invokeFunction('convertToInteractive',\n",
       "                                                    [key], {});\n",
       "        if (!dataTable) return;\n",
       "\n",
       "        const docLinkHtml = 'Like what you see? Visit the ' +\n",
       "          '<a target=\"_blank\" href=https://colab.research.google.com/notebooks/data_table.ipynb>data table notebook</a>'\n",
       "          + ' to learn more about interactive tables.';\n",
       "        element.innerHTML = '';\n",
       "        dataTable['output_type'] = 'display_data';\n",
       "        await google.colab.output.renderOutput(dataTable, element);\n",
       "        const docLink = document.createElement('div');\n",
       "        docLink.innerHTML = docLinkHtml;\n",
       "        element.appendChild(docLink);\n",
       "      }\n",
       "    </script>\n",
       "  </div>\n",
       "\n",
       "\n",
       "    <div id=\"df-2c23cc58-b853-48ff-a673-be1343c5b9e1\">\n",
       "      <button class=\"colab-df-quickchart\" onclick=\"quickchart('df-2c23cc58-b853-48ff-a673-be1343c5b9e1')\"\n",
       "                title=\"Suggest charts\"\n",
       "                style=\"display:none;\">\n",
       "\n",
       "<svg xmlns=\"http://www.w3.org/2000/svg\" height=\"24px\"viewBox=\"0 0 24 24\"\n",
       "     width=\"24px\">\n",
       "    <g>\n",
       "        <path d=\"M19 3H5c-1.1 0-2 .9-2 2v14c0 1.1.9 2 2 2h14c1.1 0 2-.9 2-2V5c0-1.1-.9-2-2-2zM9 17H7v-7h2v7zm4 0h-2V7h2v10zm4 0h-2v-4h2v4z\"/>\n",
       "    </g>\n",
       "</svg>\n",
       "      </button>\n",
       "\n",
       "<style>\n",
       "  .colab-df-quickchart {\n",
       "      --bg-color: #E8F0FE;\n",
       "      --fill-color: #1967D2;\n",
       "      --hover-bg-color: #E2EBFA;\n",
       "      --hover-fill-color: #174EA6;\n",
       "      --disabled-fill-color: #AAA;\n",
       "      --disabled-bg-color: #DDD;\n",
       "  }\n",
       "\n",
       "  [theme=dark] .colab-df-quickchart {\n",
       "      --bg-color: #3B4455;\n",
       "      --fill-color: #D2E3FC;\n",
       "      --hover-bg-color: #434B5C;\n",
       "      --hover-fill-color: #FFFFFF;\n",
       "      --disabled-bg-color: #3B4455;\n",
       "      --disabled-fill-color: #666;\n",
       "  }\n",
       "\n",
       "  .colab-df-quickchart {\n",
       "    background-color: var(--bg-color);\n",
       "    border: none;\n",
       "    border-radius: 50%;\n",
       "    cursor: pointer;\n",
       "    display: none;\n",
       "    fill: var(--fill-color);\n",
       "    height: 32px;\n",
       "    padding: 0;\n",
       "    width: 32px;\n",
       "  }\n",
       "\n",
       "  .colab-df-quickchart:hover {\n",
       "    background-color: var(--hover-bg-color);\n",
       "    box-shadow: 0 1px 2px rgba(60, 64, 67, 0.3), 0 1px 3px 1px rgba(60, 64, 67, 0.15);\n",
       "    fill: var(--button-hover-fill-color);\n",
       "  }\n",
       "\n",
       "  .colab-df-quickchart-complete:disabled,\n",
       "  .colab-df-quickchart-complete:disabled:hover {\n",
       "    background-color: var(--disabled-bg-color);\n",
       "    fill: var(--disabled-fill-color);\n",
       "    box-shadow: none;\n",
       "  }\n",
       "\n",
       "  .colab-df-spinner {\n",
       "    border: 2px solid var(--fill-color);\n",
       "    border-color: transparent;\n",
       "    border-bottom-color: var(--fill-color);\n",
       "    animation:\n",
       "      spin 1s steps(1) infinite;\n",
       "  }\n",
       "\n",
       "  @keyframes spin {\n",
       "    0% {\n",
       "      border-color: transparent;\n",
       "      border-bottom-color: var(--fill-color);\n",
       "      border-left-color: var(--fill-color);\n",
       "    }\n",
       "    20% {\n",
       "      border-color: transparent;\n",
       "      border-left-color: var(--fill-color);\n",
       "      border-top-color: var(--fill-color);\n",
       "    }\n",
       "    30% {\n",
       "      border-color: transparent;\n",
       "      border-left-color: var(--fill-color);\n",
       "      border-top-color: var(--fill-color);\n",
       "      border-right-color: var(--fill-color);\n",
       "    }\n",
       "    40% {\n",
       "      border-color: transparent;\n",
       "      border-right-color: var(--fill-color);\n",
       "      border-top-color: var(--fill-color);\n",
       "    }\n",
       "    60% {\n",
       "      border-color: transparent;\n",
       "      border-right-color: var(--fill-color);\n",
       "    }\n",
       "    80% {\n",
       "      border-color: transparent;\n",
       "      border-right-color: var(--fill-color);\n",
       "      border-bottom-color: var(--fill-color);\n",
       "    }\n",
       "    90% {\n",
       "      border-color: transparent;\n",
       "      border-bottom-color: var(--fill-color);\n",
       "    }\n",
       "  }\n",
       "</style>\n",
       "\n",
       "      <script>\n",
       "        async function quickchart(key) {\n",
       "          const quickchartButtonEl =\n",
       "            document.querySelector('#' + key + ' button');\n",
       "          quickchartButtonEl.disabled = true;  // To prevent multiple clicks.\n",
       "          quickchartButtonEl.classList.add('colab-df-spinner');\n",
       "          try {\n",
       "            const charts = await google.colab.kernel.invokeFunction(\n",
       "                'suggestCharts', [key], {});\n",
       "          } catch (error) {\n",
       "            console.error('Error during call to suggestCharts:', error);\n",
       "          }\n",
       "          quickchartButtonEl.classList.remove('colab-df-spinner');\n",
       "          quickchartButtonEl.classList.add('colab-df-quickchart-complete');\n",
       "        }\n",
       "        (() => {\n",
       "          let quickchartButtonEl =\n",
       "            document.querySelector('#df-2c23cc58-b853-48ff-a673-be1343c5b9e1 button');\n",
       "          quickchartButtonEl.style.display =\n",
       "            google.colab.kernel.accessAllowed ? 'block' : 'none';\n",
       "        })();\n",
       "      </script>\n",
       "    </div>\n",
       "\n",
       "    </div>\n",
       "  </div>\n"
      ],
      "text/plain": [
       "                                               title      price    city_name  \\\n",
       "0       CMN-MA-1752 - Appartement à vendre à Palmier  2000000.0   Casablanca   \n",
       "1  66370-Vente Appt à Casablanca Hay Hassani de 1...  1195000.0   Casablanca   \n",
       "2           Appartement à vendre 81 m² à Dar Bouazza  1350000.0  Dar Bouazza   \n",
       "3  63860-Vente Appt à Casablanca Quartier Bd Med ...   900000.0   Casablanca   \n",
       "4                          Appartement à Rabat Agdal  3100000.0        Rabat   \n",
       "5  66644-Vente Appt à Casablanca Val Fleury de 27...  3200000.0   Casablanca   \n",
       "6             Appartement à vendre 98 m² à Marrakech   760000.0    Marrakech   \n",
       "7  50620-Vente Appt à Casablanca Hay Mohammadi de 73   790000.0   Casablanca   \n",
       "8                               appartement à vendre   780000.0       Asilah   \n",
       "9  61833-Vente Appt à Casablanca Sidi Moumen de 1...  1990000.0   Casablanca   \n",
       "\n",
       "   salon  nb_rooms  nb_baths  surface_area  \\\n",
       "0    NaN       2.0       2.0         168.0   \n",
       "1    NaN       2.0       2.0          98.0   \n",
       "2    1.0       2.0       2.0          81.0   \n",
       "3    NaN       1.0       1.0          56.0   \n",
       "4    2.0       3.0       2.0         200.0   \n",
       "5    NaN       4.0       2.0         215.0   \n",
       "6    1.0       3.0       3.0          98.0   \n",
       "7    NaN       3.0       2.0          73.0   \n",
       "8    1.0       2.0       1.0          72.0   \n",
       "9    NaN       5.0       2.0         178.0   \n",
       "\n",
       "                                                link  Ascenseur  Balcon  \\\n",
       "0  https://www.avito.ma/fr/palmier/appartements/C...          1       1   \n",
       "1  https://www.avito.ma/fr/hay_hassani/appartemen...          1       1   \n",
       "2  https://www.avito.ma/fr/dar_bouazza/appartemen...          1       1   \n",
       "3  https://www.avito.ma/fr/centre_ville/apparteme...          1       0   \n",
       "4  https://www.avito.ma/fr/agdal/appartements/App...          1       1   \n",
       "5  https://www.avito.ma/fr/maarif/appartements/66...          1       0   \n",
       "6  https://www.avito.ma/fr/akioud/appartements/Ap...          1       1   \n",
       "7  https://www.avito.ma/fr/hay_mohammadi/appartem...          0       0   \n",
       "8  https://www.avito.ma/fr/asilah/appartements/ap...          0       1   \n",
       "9  https://www.avito.ma/fr/sidi_moumen/appartemen...          0       0   \n",
       "\n",
       "   Chauffage  Climatisation  Concierge  Cuisine Équipée  Duplex  Meublé  \\\n",
       "0          0              0          0                0       0       0   \n",
       "1          1              1          0                1       0       0   \n",
       "2          1              1          1                1       1       0   \n",
       "3          1              1          0                1       0       1   \n",
       "4          0              0          1                0       0       0   \n",
       "5          1              1          0                1       0       0   \n",
       "6          0              0          1                1       0       0   \n",
       "7          0              0          0                1       0       0   \n",
       "8          0              0          0                1       0       1   \n",
       "9          0              0          0                1       1       0   \n",
       "\n",
       "   Parking  Sécurité  Terrasse  Unknown  \n",
       "0        1         0         1        0  \n",
       "1        1         0         0        0  \n",
       "2        1         1         1        0  \n",
       "3        1         1         1        0  \n",
       "4        1         1         0        0  \n",
       "5        1         0         1        0  \n",
       "6        1         1         0        0  \n",
       "7        0         0         0        0  \n",
       "8        0         1         0        0  \n",
       "9        0         1         1        0  "
      ]
     },
     "execution_count": 15,
     "metadata": {},
     "output_type": "execute_result"
    }
   ],
   "source": [
    "df.head(10)"
   ]
  },
  {
   "cell_type": "markdown",
   "metadata": {
    "id": "765d8a9e"
   },
   "source": [
    "# 🧮 Remplacement des valeurs manquantes dans les colonnes numériques par la médiane de chaque colonne."
   ]
  },
  {
   "cell_type": "code",
   "execution_count": 16,
   "metadata": {
    "id": "i4cBNMmhmKVS"
   },
   "outputs": [],
   "source": [
    "numerical_cols = ['price', 'salon', 'nb_rooms', 'nb_baths', 'surface_area']\n",
    "\n",
    "for col in numerical_cols:\n",
    "    median = df[col].median()\n",
    "    df[col] = df[col].fillna(median)"
   ]
  },
  {
   "cell_type": "markdown",
   "metadata": {
    "id": "dc322f42"
   },
   "source": [
    "# 🏙️ Affichage des différentes villes présentes dans la colonne 'city_name'."
   ]
  },
  {
   "cell_type": "code",
   "execution_count": 17,
   "metadata": {
    "colab": {
     "base_uri": "https://localhost:8080/"
    },
    "id": "WRIpalVUiWnZ",
    "outputId": "4b30ba86-00ff-419b-8263-865d79a78a56"
   },
   "outputs": [
    {
     "data": {
      "text/plain": [
       "array(['Casablanca', 'Dar Bouazza', 'Rabat', 'Marrakech', 'Asilah',\n",
       "       'Bouskoura', 'Kénitra', 'Mohammedia', 'Agadir', 'Tamesna', 'Salé',\n",
       "       'Had Soualem', 'Temara', 'Benslimane', 'Tanger', 'Bouznika',\n",
       "       'Meknès', 'Fès', 'El Jadida', 'El Mansouria', 'Martil',\n",
       "       'الدار البيضاء', 'Fnideq', 'Tétouan', 'Saidia', 'Nouaceur',\n",
       "       'القنيطرة', 'Tamaris', 'طنجة', 'Cabo Negro',\n",
       "       'Sidi Allal El Bahraoui', 'Béni Mellal', 'أكادير', nan,\n",
       "       'Essaouira', 'Mehdia', 'المحمدية', 'Oujda', 'Oued Laou', 'Dcheira',\n",
       "       'Sidi Rahal', 'Deroua', 'مراكش', 'Ain Attig', 'Safi', 'الرباط',\n",
       "       'Inzegan', 'Ifrane', 'Dakhla', 'Dcheïra El Jihadia', 'Taghazout',\n",
       "       'Sidi Bouknadel', 'Skhirat', 'Khouribga', 'Berkane',\n",
       "       'Mers El Kheir', 'Berrechid', 'Tiznit', 'Agadir Melloul', 'Nador',\n",
       "       'El Menzeh', 'Bni Ansar', 'Mdiq', 'Tit Mellil', 'Souk El Arbaa',\n",
       "       'Biougra', 'Settat', 'Ain Aouda', 'Taza', 'Khemisset', 'Oued Zem',\n",
       "       'Sefrou', 'Merzouga', 'El Hajeb', 'Selouane', 'Taounate',\n",
       "       'Sidi Bennour', 'El Ksiba'], dtype=object)"
      ]
     },
     "execution_count": 17,
     "metadata": {},
     "output_type": "execute_result"
    }
   ],
   "source": [
    "df['city_name'].unique()"
   ]
  },
  {
   "cell_type": "markdown",
   "metadata": {
    "id": "58449ea5"
   },
   "source": [
    "# 🌍 Dictionnaire de traduction des noms de villes de l'arabe vers le français."
   ]
  },
  {
   "cell_type": "code",
   "execution_count": 18,
   "metadata": {
    "id": "Z9n0pCAuiX91"
   },
   "outputs": [],
   "source": [
    "city_translation = {\n",
    "    \"الدار البيضاء\": \"Casablanca\",\n",
    "    \"الرباط\": \"Rabat\",\n",
    "    \"طنجة\": \"Tanger\",\n",
    "    \"مراكش\": \"Marrakech\",\n",
    "    \"أكادير\": \"Agadir\",\n",
    "    \"فاس\": \"Fès\",\n",
    "    \"القنيطرة\": \"Kénitra\",\n",
    "    \"المحمدية\": \"Mohammedia\"\n",
    "\n",
    "}\n"
   ]
  },
  {
   "cell_type": "markdown",
   "metadata": {
    "id": "b28df1ed"
   },
   "source": [
    "# 🏷️ Remplacement des noms de villes arabes par leur équivalent français et gestion des valeurs manquantes."
   ]
  },
  {
   "cell_type": "code",
   "execution_count": 19,
   "metadata": {
    "id": "KQC807Jrictd"
   },
   "outputs": [],
   "source": [
    "df['city_name'] = df['city_name'].replace(city_translation)\n",
    "df['city_name'] = df['city_name'].fillna(\"Unknown\")"
   ]
  },
  {
   "cell_type": "markdown",
   "metadata": {
    "id": "b16c872e"
   },
   "source": [
    "# 🏙️ Vérification des noms de villes après traduction et traitement des valeurs manquantes."
   ]
  },
  {
   "cell_type": "code",
   "execution_count": 20,
   "metadata": {
    "colab": {
     "base_uri": "https://localhost:8080/"
    },
    "id": "osxAKt84ii3n",
    "outputId": "5a88cedf-dba4-4c90-e497-0d74a14aad22"
   },
   "outputs": [
    {
     "data": {
      "text/plain": [
       "array(['Casablanca', 'Dar Bouazza', 'Rabat', 'Marrakech', 'Asilah',\n",
       "       'Bouskoura', 'Kénitra', 'Mohammedia', 'Agadir', 'Tamesna', 'Salé',\n",
       "       'Had Soualem', 'Temara', 'Benslimane', 'Tanger', 'Bouznika',\n",
       "       'Meknès', 'Fès', 'El Jadida', 'El Mansouria', 'Martil', 'Fnideq',\n",
       "       'Tétouan', 'Saidia', 'Nouaceur', 'Tamaris', 'Cabo Negro',\n",
       "       'Sidi Allal El Bahraoui', 'Béni Mellal', 'Unknown', 'Essaouira',\n",
       "       'Mehdia', 'Oujda', 'Oued Laou', 'Dcheira', 'Sidi Rahal', 'Deroua',\n",
       "       'Ain Attig', 'Safi', 'Inzegan', 'Ifrane', 'Dakhla',\n",
       "       'Dcheïra El Jihadia', 'Taghazout', 'Sidi Bouknadel', 'Skhirat',\n",
       "       'Khouribga', 'Berkane', 'Mers El Kheir', 'Berrechid', 'Tiznit',\n",
       "       'Agadir Melloul', 'Nador', 'El Menzeh', 'Bni Ansar', 'Mdiq',\n",
       "       'Tit Mellil', 'Souk El Arbaa', 'Biougra', 'Settat', 'Ain Aouda',\n",
       "       'Taza', 'Khemisset', 'Oued Zem', 'Sefrou', 'Merzouga', 'El Hajeb',\n",
       "       'Selouane', 'Taounate', 'Sidi Bennour', 'El Ksiba'], dtype=object)"
      ]
     },
     "execution_count": 20,
     "metadata": {},
     "output_type": "execute_result"
    }
   ],
   "source": [
    "df['city_name'].unique()"
   ]
  },
  {
   "cell_type": "markdown",
   "metadata": {
    "id": "20682098"
   },
   "source": [
    "# 🔍 Nouvelle vérification des valeurs manquantes après nettoyage."
   ]
  },
  {
   "cell_type": "code",
   "execution_count": 21,
   "metadata": {
    "colab": {
     "base_uri": "https://localhost:8080/",
     "height": 711
    },
    "id": "okyNLBXTmP9K",
    "outputId": "908840b2-643e-44fc-db95-1d6e007f8fc8"
   },
   "outputs": [
    {
     "data": {
      "text/html": [
       "<div>\n",
       "<style scoped>\n",
       "    .dataframe tbody tr th:only-of-type {\n",
       "        vertical-align: middle;\n",
       "    }\n",
       "\n",
       "    .dataframe tbody tr th {\n",
       "        vertical-align: top;\n",
       "    }\n",
       "\n",
       "    .dataframe thead th {\n",
       "        text-align: right;\n",
       "    }\n",
       "</style>\n",
       "<table border=\"1\" class=\"dataframe\">\n",
       "  <thead>\n",
       "    <tr style=\"text-align: right;\">\n",
       "      <th></th>\n",
       "      <th>0</th>\n",
       "    </tr>\n",
       "  </thead>\n",
       "  <tbody>\n",
       "    <tr>\n",
       "      <th>title</th>\n",
       "      <td>1</td>\n",
       "    </tr>\n",
       "    <tr>\n",
       "      <th>price</th>\n",
       "      <td>0</td>\n",
       "    </tr>\n",
       "    <tr>\n",
       "      <th>city_name</th>\n",
       "      <td>0</td>\n",
       "    </tr>\n",
       "    <tr>\n",
       "      <th>salon</th>\n",
       "      <td>0</td>\n",
       "    </tr>\n",
       "    <tr>\n",
       "      <th>nb_rooms</th>\n",
       "      <td>0</td>\n",
       "    </tr>\n",
       "    <tr>\n",
       "      <th>nb_baths</th>\n",
       "      <td>0</td>\n",
       "    </tr>\n",
       "    <tr>\n",
       "      <th>surface_area</th>\n",
       "      <td>0</td>\n",
       "    </tr>\n",
       "    <tr>\n",
       "      <th>link</th>\n",
       "      <td>0</td>\n",
       "    </tr>\n",
       "    <tr>\n",
       "      <th>Ascenseur</th>\n",
       "      <td>0</td>\n",
       "    </tr>\n",
       "    <tr>\n",
       "      <th>Balcon</th>\n",
       "      <td>0</td>\n",
       "    </tr>\n",
       "    <tr>\n",
       "      <th>Chauffage</th>\n",
       "      <td>0</td>\n",
       "    </tr>\n",
       "    <tr>\n",
       "      <th>Climatisation</th>\n",
       "      <td>0</td>\n",
       "    </tr>\n",
       "    <tr>\n",
       "      <th>Concierge</th>\n",
       "      <td>0</td>\n",
       "    </tr>\n",
       "    <tr>\n",
       "      <th>Cuisine Équipée</th>\n",
       "      <td>0</td>\n",
       "    </tr>\n",
       "    <tr>\n",
       "      <th>Duplex</th>\n",
       "      <td>0</td>\n",
       "    </tr>\n",
       "    <tr>\n",
       "      <th>Meublé</th>\n",
       "      <td>0</td>\n",
       "    </tr>\n",
       "    <tr>\n",
       "      <th>Parking</th>\n",
       "      <td>0</td>\n",
       "    </tr>\n",
       "    <tr>\n",
       "      <th>Sécurité</th>\n",
       "      <td>0</td>\n",
       "    </tr>\n",
       "    <tr>\n",
       "      <th>Terrasse</th>\n",
       "      <td>0</td>\n",
       "    </tr>\n",
       "    <tr>\n",
       "      <th>Unknown</th>\n",
       "      <td>0</td>\n",
       "    </tr>\n",
       "  </tbody>\n",
       "</table>\n",
       "</div><br><label><b>dtype:</b> int64</label>"
      ],
      "text/plain": [
       "title              1\n",
       "price              0\n",
       "city_name          0\n",
       "salon              0\n",
       "nb_rooms           0\n",
       "nb_baths           0\n",
       "surface_area       0\n",
       "link               0\n",
       "Ascenseur          0\n",
       "Balcon             0\n",
       "Chauffage          0\n",
       "Climatisation      0\n",
       "Concierge          0\n",
       "Cuisine Équipée    0\n",
       "Duplex             0\n",
       "Meublé             0\n",
       "Parking            0\n",
       "Sécurité           0\n",
       "Terrasse           0\n",
       "Unknown            0\n",
       "dtype: int64"
      ]
     },
     "execution_count": 21,
     "metadata": {},
     "output_type": "execute_result"
    }
   ],
   "source": [
    "df.isnull().sum()"
   ]
  },
  {
   "cell_type": "markdown",
   "metadata": {
    "id": "e44be78e"
   },
   "source": [
    "# 🚫 Définition d'une fonction pour supprimer les valeurs aberrantes (outliers) d'une colonne."
   ]
  },
  {
   "cell_type": "code",
   "execution_count": 22,
   "metadata": {
    "id": "EGwBG5mBmduj"
   },
   "outputs": [],
   "source": [
    "def remove_outliers(df, col):\n",
    "    Q1 = df[col].quantile(0.25)   # First quartile (25%)\n",
    "    Q3 = df[col].quantile(0.75)   # Third quartile (75%)\n",
    "    IQR = Q3 - Q1                 # IQR = Q3 - Q1\n",
    "    lower = Q1 - 1.5 * IQR        # Lower bound\n",
    "    upper = Q3 + 1.5 * IQR        # Upper bound\n",
    "    return df[(df[col] >= lower) & (df[col] <= upper)]  # Keep only values in the range\n"
   ]
  },
  {
   "cell_type": "markdown",
   "metadata": {
    "id": "89aa697f"
   },
   "source": [
    "# 🧹 Application de la suppression des outliers sur 'price' et 'surface_area'."
   ]
  },
  {
   "cell_type": "code",
   "execution_count": 23,
   "metadata": {
    "id": "9jVxnFh4pqh_"
   },
   "outputs": [],
   "source": [
    "df = remove_outliers(df, 'price')\n",
    "df = remove_outliers(df, 'surface_area')"
   ]
  },
  {
   "cell_type": "markdown",
   "metadata": {
    "id": "676362cb"
   },
   "source": [
    "# 📏 Affichage du nombre de lignes après suppression des outliers."
   ]
  },
  {
   "cell_type": "code",
   "execution_count": 24,
   "metadata": {
    "colab": {
     "base_uri": "https://localhost:8080/"
    },
    "id": "sf0dx7ptqWIW",
    "outputId": "083574c7-a049-4046-a976-34749c450b1c"
   },
   "outputs": [
    {
     "data": {
      "text/plain": [
       "1547"
      ]
     },
     "execution_count": 24,
     "metadata": {},
     "output_type": "execute_result"
    }
   ],
   "source": [
    "len(df)"
   ]
  },
  {
   "cell_type": "markdown",
   "metadata": {
    "id": "4947c23c"
   },
   "source": [
    "# 🔢 Encodage des noms de villes en valeurs numériques avec LabelEncoder."
   ]
  },
  {
   "cell_type": "code",
   "execution_count": 25,
   "metadata": {
    "id": "K0oueKtkqdQP"
   },
   "outputs": [],
   "source": [
    "from sklearn.preprocessing import LabelEncoder\n",
    "\n",
    "# Create the encoder\n",
    "label_encoder = LabelEncoder()\n",
    "\n",
    "# Fit the encoder and transform the city_name column\n",
    "df['city_encoded'] = label_encoder.fit_transform(df['city_name'])\n"
   ]
  },
  {
   "cell_type": "markdown",
   "metadata": {
    "id": "bc0c7101"
   },
   "source": [
    "# 🗺️ Création et affichage du dictionnaire de correspondance entre les villes et leur code numérique."
   ]
  },
  {
   "cell_type": "code",
   "execution_count": 26,
   "metadata": {
    "colab": {
     "base_uri": "https://localhost:8080/"
    },
    "id": "SYrzGejYztVk",
    "outputId": "4d2240a3-97f2-4e56-948e-888fd46e2e25"
   },
   "outputs": [
    {
     "name": "stdout",
     "output_type": "stream",
     "text": [
      "{'Agadir': np.int64(0), 'Agadir Melloul': np.int64(1), 'Ain Aouda': np.int64(2), 'Ain Attig': np.int64(3), 'Asilah': np.int64(4), 'Benslimane': np.int64(5), 'Berkane': np.int64(6), 'Berrechid': np.int64(7), 'Biougra': np.int64(8), 'Bouskoura': np.int64(9), 'Bouznika': np.int64(10), 'Béni Mellal': np.int64(11), 'Cabo Negro': np.int64(12), 'Casablanca': np.int64(13), 'Dakhla': np.int64(14), 'Dar Bouazza': np.int64(15), 'Dcheira': np.int64(16), 'Dcheïra El Jihadia': np.int64(17), 'Deroua': np.int64(18), 'El Jadida': np.int64(19), 'El Ksiba': np.int64(20), 'El Mansouria': np.int64(21), 'El Menzeh': np.int64(22), 'Essaouira': np.int64(23), 'Fnideq': np.int64(24), 'Fès': np.int64(25), 'Had Soualem': np.int64(26), 'Ifrane': np.int64(27), 'Inzegan': np.int64(28), 'Khemisset': np.int64(29), 'Khouribga': np.int64(30), 'Kénitra': np.int64(31), 'Marrakech': np.int64(32), 'Martil': np.int64(33), 'Mdiq': np.int64(34), 'Mehdia': np.int64(35), 'Meknès': np.int64(36), 'Mers El Kheir': np.int64(37), 'Mohammedia': np.int64(38), 'Nador': np.int64(39), 'Nouaceur': np.int64(40), 'Oued Laou': np.int64(41), 'Oued Zem': np.int64(42), 'Oujda': np.int64(43), 'Rabat': np.int64(44), 'Safi': np.int64(45), 'Saidia': np.int64(46), 'Salé': np.int64(47), 'Sefrou': np.int64(48), 'Selouane': np.int64(49), 'Settat': np.int64(50), 'Sidi Allal El Bahraoui': np.int64(51), 'Sidi Bennour': np.int64(52), 'Sidi Bouknadel': np.int64(53), 'Sidi Rahal': np.int64(54), 'Skhirat': np.int64(55), 'Taghazout': np.int64(56), 'Tamaris': np.int64(57), 'Tamesna': np.int64(58), 'Tanger': np.int64(59), 'Taounate': np.int64(60), 'Taza': np.int64(61), 'Temara': np.int64(62), 'Tit Mellil': np.int64(63), 'Tiznit': np.int64(64), 'Tétouan': np.int64(65), 'Unknown': np.int64(66)}\n"
     ]
    }
   ],
   "source": [
    "mapping = dict(zip(label_encoder.classes_, label_encoder.transform(label_encoder.classes_)))\n",
    "print(mapping)\n"
   ]
  },
  {
   "cell_type": "markdown",
   "metadata": {
    "id": "9bb9fce4"
   },
   "source": [
    "# 🗑️ Suppression de la colonne 'city_name' (optionnel, car on utilise 'city_encoded')."
   ]
  },
  {
   "cell_type": "code",
   "execution_count": 27,
   "metadata": {
    "id": "Tva2uJy075m0"
   },
   "outputs": [],
   "source": [
    "df = df.drop(columns=['city_name'])  # optional"
   ]
  },
  {
   "cell_type": "markdown",
   "metadata": {
    "id": "559d0768"
   },
   "source": [
    "# 🗺️ Réaffichage du dictionnaire de correspondance ville/code (peut être redondant)."
   ]
  },
  {
   "cell_type": "code",
   "execution_count": 28,
   "metadata": {
    "colab": {
     "base_uri": "https://localhost:8080/"
    },
    "id": "HExKscoH8Bnq",
    "outputId": "13186cbf-9934-4c56-ec6e-a48d8a70741d"
   },
   "outputs": [
    {
     "name": "stdout",
     "output_type": "stream",
     "text": [
      "{'Agadir': np.int64(0), 'Agadir Melloul': np.int64(1), 'Ain Aouda': np.int64(2), 'Ain Attig': np.int64(3), 'Asilah': np.int64(4), 'Benslimane': np.int64(5), 'Berkane': np.int64(6), 'Berrechid': np.int64(7), 'Biougra': np.int64(8), 'Bouskoura': np.int64(9), 'Bouznika': np.int64(10), 'Béni Mellal': np.int64(11), 'Cabo Negro': np.int64(12), 'Casablanca': np.int64(13), 'Dakhla': np.int64(14), 'Dar Bouazza': np.int64(15), 'Dcheira': np.int64(16), 'Dcheïra El Jihadia': np.int64(17), 'Deroua': np.int64(18), 'El Jadida': np.int64(19), 'El Ksiba': np.int64(20), 'El Mansouria': np.int64(21), 'El Menzeh': np.int64(22), 'Essaouira': np.int64(23), 'Fnideq': np.int64(24), 'Fès': np.int64(25), 'Had Soualem': np.int64(26), 'Ifrane': np.int64(27), 'Inzegan': np.int64(28), 'Khemisset': np.int64(29), 'Khouribga': np.int64(30), 'Kénitra': np.int64(31), 'Marrakech': np.int64(32), 'Martil': np.int64(33), 'Mdiq': np.int64(34), 'Mehdia': np.int64(35), 'Meknès': np.int64(36), 'Mers El Kheir': np.int64(37), 'Mohammedia': np.int64(38), 'Nador': np.int64(39), 'Nouaceur': np.int64(40), 'Oued Laou': np.int64(41), 'Oued Zem': np.int64(42), 'Oujda': np.int64(43), 'Rabat': np.int64(44), 'Safi': np.int64(45), 'Saidia': np.int64(46), 'Salé': np.int64(47), 'Sefrou': np.int64(48), 'Selouane': np.int64(49), 'Settat': np.int64(50), 'Sidi Allal El Bahraoui': np.int64(51), 'Sidi Bennour': np.int64(52), 'Sidi Bouknadel': np.int64(53), 'Sidi Rahal': np.int64(54), 'Skhirat': np.int64(55), 'Taghazout': np.int64(56), 'Tamaris': np.int64(57), 'Tamesna': np.int64(58), 'Tanger': np.int64(59), 'Taounate': np.int64(60), 'Taza': np.int64(61), 'Temara': np.int64(62), 'Tit Mellil': np.int64(63), 'Tiznit': np.int64(64), 'Tétouan': np.int64(65), 'Unknown': np.int64(66)}\n"
     ]
    }
   ],
   "source": [
    "print(mapping)"
   ]
  },
  {
   "cell_type": "markdown",
   "metadata": {
    "id": "19a01cec"
   },
   "source": [
    "# ⚖️ Importation du StandardScaler pour la normalisation des variables numériques."
   ]
  },
  {
   "cell_type": "code",
   "execution_count": 29,
   "metadata": {
    "id": "_Cql118GW1wV"
   },
   "outputs": [],
   "source": [
    "from sklearn.preprocessing import StandardScaler"
   ]
  },
  {
   "cell_type": "markdown",
   "metadata": {
    "id": "1079b94f"
   },
   "source": [
    "# 📏 Définition des colonnes à normaliser."
   ]
  },
  {
   "cell_type": "code",
   "execution_count": 30,
   "metadata": {
    "id": "wyE_lZ60wR_v"
   },
   "outputs": [],
   "source": [
    "columns_to_scale = ['price', 'salon', 'nb_rooms', 'nb_baths', 'surface_area']"
   ]
  },
  {
   "cell_type": "markdown",
   "metadata": {
    "id": "8edb32cb"
   },
   "source": [
    "# ⚖️ Création de l'instance StandardScaler pour la normalisation."
   ]
  },
  {
   "cell_type": "code",
   "execution_count": 31,
   "metadata": {
    "id": "1oKOIb61wcP9"
   },
   "outputs": [],
   "source": [
    "scaler = StandardScaler()"
   ]
  },
  {
   "cell_type": "markdown",
   "metadata": {
    "id": "11a5a954"
   },
   "source": [
    "# 📋 Copie du DataFrame pour appliquer la normalisation sans modifier l'original."
   ]
  },
  {
   "cell_type": "code",
   "execution_count": 32,
   "metadata": {
    "id": "S6N9JLu4wf1w"
   },
   "outputs": [],
   "source": [
    "df_scaled = df.copy()"
   ]
  },
  {
   "cell_type": "markdown",
   "metadata": {
    "id": "948802a4"
   },
   "source": [
    "# ⚖️ Application de la normalisation sur les colonnes sélectionnées."
   ]
  },
  {
   "cell_type": "code",
   "execution_count": 33,
   "metadata": {
    "id": "khzCgx6NwjLE"
   },
   "outputs": [],
   "source": [
    "df_scaled[columns_to_scale] = scaler.fit_transform(df_scaled[columns_to_scale])"
   ]
  },
  {
   "cell_type": "markdown",
   "metadata": {
    "id": "05b8b2a1"
   },
   "source": [
    "# 📊 Statistiques descriptives après normalisation."
   ]
  },
  {
   "cell_type": "code",
   "execution_count": 34,
   "metadata": {
    "colab": {
     "base_uri": "https://localhost:8080/"
    },
    "id": "WVi81gq4wlA6",
    "outputId": "32128c07-cd45-4be5-f5e4-17c94a0056e4"
   },
   "outputs": [
    {
     "name": "stdout",
     "output_type": "stream",
     "text": [
      "              price         salon      nb_rooms      nb_baths  surface_area\n",
      "count  1.547000e+03  1.547000e+03  1.547000e+03  1.547000e+03  1.547000e+03\n",
      "mean  -8.267466e-17  1.469772e-16  2.755822e-17 -1.377911e-17 -1.653493e-16\n",
      "std    1.000323e+00  1.000323e+00  1.000323e+00  1.000323e+00  1.000323e+00\n",
      "min   -2.028958e+00 -2.458918e+00 -2.216468e+00 -3.089936e-01 -2.634628e+00\n",
      "25%   -6.342107e-01 -4.148847e-01 -4.462687e-01 -1.694685e-01 -7.076932e-01\n",
      "50%   -2.678660e-02 -4.148847e-01 -4.462687e-01 -2.994334e-02 -1.409476e-01\n",
      "75%    4.524035e-01 -4.148847e-01  1.323930e+00 -2.994334e-02  6.524963e-01\n",
      "max    3.032831e+00  1.389335e+01  3.094129e+00  1.838737e+01  2.881696e+00\n"
     ]
    }
   ],
   "source": [
    "print(df_scaled[columns_to_scale].describe())"
   ]
  },
  {
   "cell_type": "markdown",
   "metadata": {
    "id": "fedd00a7"
   },
   "source": [
    "# 👀 Vérification du DataFrame après normalisation."
   ]
  },
  {
   "cell_type": "code",
   "execution_count": 35,
   "metadata": {
    "colab": {
     "base_uri": "https://localhost:8080/",
     "height": 573
    },
    "id": "IMO7f8lzFgp5",
    "outputId": "38786a35-3143-4a07-a9dc-b5834d2aca38"
   },
   "outputs": [
    {
     "data": {
      "application/vnd.google.colaboratory.intrinsic+json": {
       "summary": "{\n  \"name\": \"df\",\n  \"rows\": 1547,\n  \"fields\": [\n    {\n      \"column\": \"title\",\n      \"properties\": {\n        \"dtype\": \"string\",\n        \"num_unique_values\": 1303,\n        \"samples\": [\n          \"A Belv\\u00e9d\\u00e8re, Lumineux 112m\\u00b2, sans vis \\u00e0 vis\",\n          \"vente appartement anassi\",\n          \"Appartement F3 \\u00e0 vendre Hay Mohammadi Agadir .\"\n        ],\n        \"semantic_type\": \"\",\n        \"description\": \"\"\n      }\n    },\n    {\n      \"column\": \"price\",\n      \"properties\": {\n        \"dtype\": \"number\",\n        \"std\": 444643.7289638492,\n        \"min\": 35.0,\n        \"max\": 2250000.0,\n        \"num_unique_values\": 298,\n        \"samples\": [\n          1850000.0,\n          1457000.0,\n          1068000.0\n        ],\n        \"semantic_type\": \"\",\n        \"description\": \"\"\n      }\n    },\n    {\n      \"column\": \"salon\",\n      \"properties\": {\n        \"dtype\": \"number\",\n        \"std\": 0.48938692401091677,\n        \"min\": 0.0,\n        \"max\": 8.0,\n        \"num_unique_values\": 7,\n        \"samples\": [\n          1.0,\n          2.0,\n          8.0\n        ],\n        \"semantic_type\": \"\",\n        \"description\": \"\"\n      }\n    },\n    {\n      \"column\": \"nb_rooms\",\n      \"properties\": {\n        \"dtype\": \"number\",\n        \"std\": 0.565090905158128,\n        \"min\": 1.0,\n        \"max\": 4.0,\n        \"num_unique_values\": 4,\n        \"samples\": [\n          1.0,\n          4.0,\n          2.0\n        ],\n        \"semantic_type\": \"\",\n        \"description\": \"\"\n      }\n    },\n    {\n      \"column\": \"nb_baths\",\n      \"properties\": {\n        \"dtype\": \"number\",\n        \"std\": 7.169485333496004,\n        \"min\": 0.0,\n        \"max\": 134.0,\n        \"num_unique_values\": 13,\n        \"samples\": [\n          57.0,\n          134.0,\n          2.0\n        ],\n        \"semantic_type\": \"\",\n        \"description\": \"\"\n      }\n    },\n    {\n      \"column\": \"surface_area\",\n      \"properties\": {\n        \"dtype\": \"number\",\n        \"std\": 26.475459065417688,\n        \"min\": 19.0,\n        \"max\": 165.0,\n        \"num_unique_values\": 133,\n        \"samples\": [\n          90.0,\n          114.0,\n          85.0\n        ],\n        \"semantic_type\": \"\",\n        \"description\": \"\"\n      }\n    },\n    {\n      \"column\": \"link\",\n      \"properties\": {\n        \"dtype\": \"string\",\n        \"num_unique_values\": 1547,\n        \"samples\": [\n          \"https://www.avito.ma/fr/had_soualem/appartements/super_appartement_bien_ensoleill%C3%A9_120m_48056440.htm\",\n          \"https://www.avito.ma/fr/autre_secteur/appartements/Appartement_neuf_%C3%A0_vendre_95_m%C2%B2_%C3%A0_wifak__50110009.htm\",\n          \"https://www.avito.ma/fr/wifak/appartements/Appartement_%C3%A0_vendre_112_m%C2%B2_%C3%A0_Temara_wifak_55830550.htm\"\n        ],\n        \"semantic_type\": \"\",\n        \"description\": \"\"\n      }\n    },\n    {\n      \"column\": \"Ascenseur\",\n      \"properties\": {\n        \"dtype\": \"number\",\n        \"std\": 0,\n        \"min\": 0,\n        \"max\": 1,\n        \"num_unique_values\": 2,\n        \"samples\": [\n          0,\n          1\n        ],\n        \"semantic_type\": \"\",\n        \"description\": \"\"\n      }\n    },\n    {\n      \"column\": \"Balcon\",\n      \"properties\": {\n        \"dtype\": \"number\",\n        \"std\": 0,\n        \"min\": 0,\n        \"max\": 1,\n        \"num_unique_values\": 2,\n        \"samples\": [\n          0,\n          1\n        ],\n        \"semantic_type\": \"\",\n        \"description\": \"\"\n      }\n    },\n    {\n      \"column\": \"Chauffage\",\n      \"properties\": {\n        \"dtype\": \"number\",\n        \"std\": 0,\n        \"min\": 0,\n        \"max\": 1,\n        \"num_unique_values\": 2,\n        \"samples\": [\n          0,\n          1\n        ],\n        \"semantic_type\": \"\",\n        \"description\": \"\"\n      }\n    },\n    {\n      \"column\": \"Climatisation\",\n      \"properties\": {\n        \"dtype\": \"number\",\n        \"std\": 0,\n        \"min\": 0,\n        \"max\": 1,\n        \"num_unique_values\": 2,\n        \"samples\": [\n          0,\n          1\n        ],\n        \"semantic_type\": \"\",\n        \"description\": \"\"\n      }\n    },\n    {\n      \"column\": \"Concierge\",\n      \"properties\": {\n        \"dtype\": \"number\",\n        \"std\": 0,\n        \"min\": 0,\n        \"max\": 1,\n        \"num_unique_values\": 2,\n        \"samples\": [\n          1,\n          0\n        ],\n        \"semantic_type\": \"\",\n        \"description\": \"\"\n      }\n    },\n    {\n      \"column\": \"Cuisine \\u00c9quip\\u00e9e\",\n      \"properties\": {\n        \"dtype\": \"number\",\n        \"std\": 0,\n        \"min\": 0,\n        \"max\": 1,\n        \"num_unique_values\": 2,\n        \"samples\": [\n          0,\n          1\n        ],\n        \"semantic_type\": \"\",\n        \"description\": \"\"\n      }\n    },\n    {\n      \"column\": \"Duplex\",\n      \"properties\": {\n        \"dtype\": \"number\",\n        \"std\": 0,\n        \"min\": 0,\n        \"max\": 1,\n        \"num_unique_values\": 2,\n        \"samples\": [\n          1,\n          0\n        ],\n        \"semantic_type\": \"\",\n        \"description\": \"\"\n      }\n    },\n    {\n      \"column\": \"Meubl\\u00e9\",\n      \"properties\": {\n        \"dtype\": \"number\",\n        \"std\": 0,\n        \"min\": 0,\n        \"max\": 1,\n        \"num_unique_values\": 2,\n        \"samples\": [\n          1,\n          0\n        ],\n        \"semantic_type\": \"\",\n        \"description\": \"\"\n      }\n    },\n    {\n      \"column\": \"Parking\",\n      \"properties\": {\n        \"dtype\": \"number\",\n        \"std\": 0,\n        \"min\": 0,\n        \"max\": 1,\n        \"num_unique_values\": 2,\n        \"samples\": [\n          0,\n          1\n        ],\n        \"semantic_type\": \"\",\n        \"description\": \"\"\n      }\n    },\n    {\n      \"column\": \"S\\u00e9curit\\u00e9\",\n      \"properties\": {\n        \"dtype\": \"number\",\n        \"std\": 0,\n        \"min\": 0,\n        \"max\": 1,\n        \"num_unique_values\": 2,\n        \"samples\": [\n          1,\n          0\n        ],\n        \"semantic_type\": \"\",\n        \"description\": \"\"\n      }\n    },\n    {\n      \"column\": \"Terrasse\",\n      \"properties\": {\n        \"dtype\": \"number\",\n        \"std\": 0,\n        \"min\": 0,\n        \"max\": 1,\n        \"num_unique_values\": 2,\n        \"samples\": [\n          1,\n          0\n        ],\n        \"semantic_type\": \"\",\n        \"description\": \"\"\n      }\n    },\n    {\n      \"column\": \"Unknown\",\n      \"properties\": {\n        \"dtype\": \"number\",\n        \"std\": 0,\n        \"min\": 0,\n        \"max\": 1,\n        \"num_unique_values\": 2,\n        \"samples\": [\n          1,\n          0\n        ],\n        \"semantic_type\": \"\",\n        \"description\": \"\"\n      }\n    },\n    {\n      \"column\": \"city_encoded\",\n      \"properties\": {\n        \"dtype\": \"number\",\n        \"std\": 18,\n        \"min\": 0,\n        \"max\": 66,\n        \"num_unique_values\": 67,\n        \"samples\": [\n          18,\n          36\n        ],\n        \"semantic_type\": \"\",\n        \"description\": \"\"\n      }\n    }\n  ]\n}",
       "type": "dataframe",
       "variable_name": "df"
      },
      "text/html": [
       "\n",
       "  <div id=\"df-5441f1c3-d48f-4c6e-b37c-7dab99b57b13\" class=\"colab-df-container\">\n",
       "    <div>\n",
       "<style scoped>\n",
       "    .dataframe tbody tr th:only-of-type {\n",
       "        vertical-align: middle;\n",
       "    }\n",
       "\n",
       "    .dataframe tbody tr th {\n",
       "        vertical-align: top;\n",
       "    }\n",
       "\n",
       "    .dataframe thead th {\n",
       "        text-align: right;\n",
       "    }\n",
       "</style>\n",
       "<table border=\"1\" class=\"dataframe\">\n",
       "  <thead>\n",
       "    <tr style=\"text-align: right;\">\n",
       "      <th></th>\n",
       "      <th>title</th>\n",
       "      <th>price</th>\n",
       "      <th>salon</th>\n",
       "      <th>nb_rooms</th>\n",
       "      <th>nb_baths</th>\n",
       "      <th>surface_area</th>\n",
       "      <th>link</th>\n",
       "      <th>Ascenseur</th>\n",
       "      <th>Balcon</th>\n",
       "      <th>Chauffage</th>\n",
       "      <th>Climatisation</th>\n",
       "      <th>Concierge</th>\n",
       "      <th>Cuisine Équipée</th>\n",
       "      <th>Duplex</th>\n",
       "      <th>Meublé</th>\n",
       "      <th>Parking</th>\n",
       "      <th>Sécurité</th>\n",
       "      <th>Terrasse</th>\n",
       "      <th>Unknown</th>\n",
       "      <th>city_encoded</th>\n",
       "    </tr>\n",
       "  </thead>\n",
       "  <tbody>\n",
       "    <tr>\n",
       "      <th>1</th>\n",
       "      <td>66370-Vente Appt à Casablanca Hay Hassani de 1...</td>\n",
       "      <td>1195000.0</td>\n",
       "      <td>1.0</td>\n",
       "      <td>2.0</td>\n",
       "      <td>2.0</td>\n",
       "      <td>98.0</td>\n",
       "      <td>https://www.avito.ma/fr/hay_hassani/appartemen...</td>\n",
       "      <td>1</td>\n",
       "      <td>1</td>\n",
       "      <td>1</td>\n",
       "      <td>1</td>\n",
       "      <td>0</td>\n",
       "      <td>1</td>\n",
       "      <td>0</td>\n",
       "      <td>0</td>\n",
       "      <td>1</td>\n",
       "      <td>0</td>\n",
       "      <td>0</td>\n",
       "      <td>0</td>\n",
       "      <td>13</td>\n",
       "    </tr>\n",
       "    <tr>\n",
       "      <th>2</th>\n",
       "      <td>Appartement à vendre 81 m² à Dar Bouazza</td>\n",
       "      <td>1350000.0</td>\n",
       "      <td>1.0</td>\n",
       "      <td>2.0</td>\n",
       "      <td>2.0</td>\n",
       "      <td>81.0</td>\n",
       "      <td>https://www.avito.ma/fr/dar_bouazza/appartemen...</td>\n",
       "      <td>1</td>\n",
       "      <td>1</td>\n",
       "      <td>1</td>\n",
       "      <td>1</td>\n",
       "      <td>1</td>\n",
       "      <td>1</td>\n",
       "      <td>1</td>\n",
       "      <td>0</td>\n",
       "      <td>1</td>\n",
       "      <td>1</td>\n",
       "      <td>1</td>\n",
       "      <td>0</td>\n",
       "      <td>15</td>\n",
       "    </tr>\n",
       "    <tr>\n",
       "      <th>3</th>\n",
       "      <td>63860-Vente Appt à Casablanca Quartier Bd Med ...</td>\n",
       "      <td>900000.0</td>\n",
       "      <td>1.0</td>\n",
       "      <td>1.0</td>\n",
       "      <td>1.0</td>\n",
       "      <td>56.0</td>\n",
       "      <td>https://www.avito.ma/fr/centre_ville/apparteme...</td>\n",
       "      <td>1</td>\n",
       "      <td>0</td>\n",
       "      <td>1</td>\n",
       "      <td>1</td>\n",
       "      <td>0</td>\n",
       "      <td>1</td>\n",
       "      <td>0</td>\n",
       "      <td>1</td>\n",
       "      <td>1</td>\n",
       "      <td>1</td>\n",
       "      <td>1</td>\n",
       "      <td>0</td>\n",
       "      <td>13</td>\n",
       "    </tr>\n",
       "    <tr>\n",
       "      <th>6</th>\n",
       "      <td>Appartement à vendre 98 m² à Marrakech</td>\n",
       "      <td>760000.0</td>\n",
       "      <td>1.0</td>\n",
       "      <td>3.0</td>\n",
       "      <td>3.0</td>\n",
       "      <td>98.0</td>\n",
       "      <td>https://www.avito.ma/fr/akioud/appartements/Ap...</td>\n",
       "      <td>1</td>\n",
       "      <td>1</td>\n",
       "      <td>0</td>\n",
       "      <td>0</td>\n",
       "      <td>1</td>\n",
       "      <td>1</td>\n",
       "      <td>0</td>\n",
       "      <td>0</td>\n",
       "      <td>1</td>\n",
       "      <td>1</td>\n",
       "      <td>0</td>\n",
       "      <td>0</td>\n",
       "      <td>32</td>\n",
       "    </tr>\n",
       "    <tr>\n",
       "      <th>7</th>\n",
       "      <td>50620-Vente Appt à Casablanca Hay Mohammadi de 73</td>\n",
       "      <td>790000.0</td>\n",
       "      <td>1.0</td>\n",
       "      <td>3.0</td>\n",
       "      <td>2.0</td>\n",
       "      <td>73.0</td>\n",
       "      <td>https://www.avito.ma/fr/hay_mohammadi/appartem...</td>\n",
       "      <td>0</td>\n",
       "      <td>0</td>\n",
       "      <td>0</td>\n",
       "      <td>0</td>\n",
       "      <td>0</td>\n",
       "      <td>1</td>\n",
       "      <td>0</td>\n",
       "      <td>0</td>\n",
       "      <td>0</td>\n",
       "      <td>0</td>\n",
       "      <td>0</td>\n",
       "      <td>0</td>\n",
       "      <td>13</td>\n",
       "    </tr>\n",
       "  </tbody>\n",
       "</table>\n",
       "</div>\n",
       "    <div class=\"colab-df-buttons\">\n",
       "\n",
       "  <div class=\"colab-df-container\">\n",
       "    <button class=\"colab-df-convert\" onclick=\"convertToInteractive('df-5441f1c3-d48f-4c6e-b37c-7dab99b57b13')\"\n",
       "            title=\"Convert this dataframe to an interactive table.\"\n",
       "            style=\"display:none;\">\n",
       "\n",
       "  <svg xmlns=\"http://www.w3.org/2000/svg\" height=\"24px\" viewBox=\"0 -960 960 960\">\n",
       "    <path d=\"M120-120v-720h720v720H120Zm60-500h600v-160H180v160Zm220 220h160v-160H400v160Zm0 220h160v-160H400v160ZM180-400h160v-160H180v160Zm440 0h160v-160H620v160ZM180-180h160v-160H180v160Zm440 0h160v-160H620v160Z\"/>\n",
       "  </svg>\n",
       "    </button>\n",
       "\n",
       "  <style>\n",
       "    .colab-df-container {\n",
       "      display:flex;\n",
       "      gap: 12px;\n",
       "    }\n",
       "\n",
       "    .colab-df-convert {\n",
       "      background-color: #E8F0FE;\n",
       "      border: none;\n",
       "      border-radius: 50%;\n",
       "      cursor: pointer;\n",
       "      display: none;\n",
       "      fill: #1967D2;\n",
       "      height: 32px;\n",
       "      padding: 0 0 0 0;\n",
       "      width: 32px;\n",
       "    }\n",
       "\n",
       "    .colab-df-convert:hover {\n",
       "      background-color: #E2EBFA;\n",
       "      box-shadow: 0px 1px 2px rgba(60, 64, 67, 0.3), 0px 1px 3px 1px rgba(60, 64, 67, 0.15);\n",
       "      fill: #174EA6;\n",
       "    }\n",
       "\n",
       "    .colab-df-buttons div {\n",
       "      margin-bottom: 4px;\n",
       "    }\n",
       "\n",
       "    [theme=dark] .colab-df-convert {\n",
       "      background-color: #3B4455;\n",
       "      fill: #D2E3FC;\n",
       "    }\n",
       "\n",
       "    [theme=dark] .colab-df-convert:hover {\n",
       "      background-color: #434B5C;\n",
       "      box-shadow: 0px 1px 3px 1px rgba(0, 0, 0, 0.15);\n",
       "      filter: drop-shadow(0px 1px 2px rgba(0, 0, 0, 0.3));\n",
       "      fill: #FFFFFF;\n",
       "    }\n",
       "  </style>\n",
       "\n",
       "    <script>\n",
       "      const buttonEl =\n",
       "        document.querySelector('#df-5441f1c3-d48f-4c6e-b37c-7dab99b57b13 button.colab-df-convert');\n",
       "      buttonEl.style.display =\n",
       "        google.colab.kernel.accessAllowed ? 'block' : 'none';\n",
       "\n",
       "      async function convertToInteractive(key) {\n",
       "        const element = document.querySelector('#df-5441f1c3-d48f-4c6e-b37c-7dab99b57b13');\n",
       "        const dataTable =\n",
       "          await google.colab.kernel.invokeFunction('convertToInteractive',\n",
       "                                                    [key], {});\n",
       "        if (!dataTable) return;\n",
       "\n",
       "        const docLinkHtml = 'Like what you see? Visit the ' +\n",
       "          '<a target=\"_blank\" href=https://colab.research.google.com/notebooks/data_table.ipynb>data table notebook</a>'\n",
       "          + ' to learn more about interactive tables.';\n",
       "        element.innerHTML = '';\n",
       "        dataTable['output_type'] = 'display_data';\n",
       "        await google.colab.output.renderOutput(dataTable, element);\n",
       "        const docLink = document.createElement('div');\n",
       "        docLink.innerHTML = docLinkHtml;\n",
       "        element.appendChild(docLink);\n",
       "      }\n",
       "    </script>\n",
       "  </div>\n",
       "\n",
       "\n",
       "    <div id=\"df-1ccb6582-94fc-4d6c-895b-d8e6954d5514\">\n",
       "      <button class=\"colab-df-quickchart\" onclick=\"quickchart('df-1ccb6582-94fc-4d6c-895b-d8e6954d5514')\"\n",
       "                title=\"Suggest charts\"\n",
       "                style=\"display:none;\">\n",
       "\n",
       "<svg xmlns=\"http://www.w3.org/2000/svg\" height=\"24px\"viewBox=\"0 0 24 24\"\n",
       "     width=\"24px\">\n",
       "    <g>\n",
       "        <path d=\"M19 3H5c-1.1 0-2 .9-2 2v14c0 1.1.9 2 2 2h14c1.1 0 2-.9 2-2V5c0-1.1-.9-2-2-2zM9 17H7v-7h2v7zm4 0h-2V7h2v10zm4 0h-2v-4h2v4z\"/>\n",
       "    </g>\n",
       "</svg>\n",
       "      </button>\n",
       "\n",
       "<style>\n",
       "  .colab-df-quickchart {\n",
       "      --bg-color: #E8F0FE;\n",
       "      --fill-color: #1967D2;\n",
       "      --hover-bg-color: #E2EBFA;\n",
       "      --hover-fill-color: #174EA6;\n",
       "      --disabled-fill-color: #AAA;\n",
       "      --disabled-bg-color: #DDD;\n",
       "  }\n",
       "\n",
       "  [theme=dark] .colab-df-quickchart {\n",
       "      --bg-color: #3B4455;\n",
       "      --fill-color: #D2E3FC;\n",
       "      --hover-bg-color: #434B5C;\n",
       "      --hover-fill-color: #FFFFFF;\n",
       "      --disabled-bg-color: #3B4455;\n",
       "      --disabled-fill-color: #666;\n",
       "  }\n",
       "\n",
       "  .colab-df-quickchart {\n",
       "    background-color: var(--bg-color);\n",
       "    border: none;\n",
       "    border-radius: 50%;\n",
       "    cursor: pointer;\n",
       "    display: none;\n",
       "    fill: var(--fill-color);\n",
       "    height: 32px;\n",
       "    padding: 0;\n",
       "    width: 32px;\n",
       "  }\n",
       "\n",
       "  .colab-df-quickchart:hover {\n",
       "    background-color: var(--hover-bg-color);\n",
       "    box-shadow: 0 1px 2px rgba(60, 64, 67, 0.3), 0 1px 3px 1px rgba(60, 64, 67, 0.15);\n",
       "    fill: var(--button-hover-fill-color);\n",
       "  }\n",
       "\n",
       "  .colab-df-quickchart-complete:disabled,\n",
       "  .colab-df-quickchart-complete:disabled:hover {\n",
       "    background-color: var(--disabled-bg-color);\n",
       "    fill: var(--disabled-fill-color);\n",
       "    box-shadow: none;\n",
       "  }\n",
       "\n",
       "  .colab-df-spinner {\n",
       "    border: 2px solid var(--fill-color);\n",
       "    border-color: transparent;\n",
       "    border-bottom-color: var(--fill-color);\n",
       "    animation:\n",
       "      spin 1s steps(1) infinite;\n",
       "  }\n",
       "\n",
       "  @keyframes spin {\n",
       "    0% {\n",
       "      border-color: transparent;\n",
       "      border-bottom-color: var(--fill-color);\n",
       "      border-left-color: var(--fill-color);\n",
       "    }\n",
       "    20% {\n",
       "      border-color: transparent;\n",
       "      border-left-color: var(--fill-color);\n",
       "      border-top-color: var(--fill-color);\n",
       "    }\n",
       "    30% {\n",
       "      border-color: transparent;\n",
       "      border-left-color: var(--fill-color);\n",
       "      border-top-color: var(--fill-color);\n",
       "      border-right-color: var(--fill-color);\n",
       "    }\n",
       "    40% {\n",
       "      border-color: transparent;\n",
       "      border-right-color: var(--fill-color);\n",
       "      border-top-color: var(--fill-color);\n",
       "    }\n",
       "    60% {\n",
       "      border-color: transparent;\n",
       "      border-right-color: var(--fill-color);\n",
       "    }\n",
       "    80% {\n",
       "      border-color: transparent;\n",
       "      border-right-color: var(--fill-color);\n",
       "      border-bottom-color: var(--fill-color);\n",
       "    }\n",
       "    90% {\n",
       "      border-color: transparent;\n",
       "      border-bottom-color: var(--fill-color);\n",
       "    }\n",
       "  }\n",
       "</style>\n",
       "\n",
       "      <script>\n",
       "        async function quickchart(key) {\n",
       "          const quickchartButtonEl =\n",
       "            document.querySelector('#' + key + ' button');\n",
       "          quickchartButtonEl.disabled = true;  // To prevent multiple clicks.\n",
       "          quickchartButtonEl.classList.add('colab-df-spinner');\n",
       "          try {\n",
       "            const charts = await google.colab.kernel.invokeFunction(\n",
       "                'suggestCharts', [key], {});\n",
       "          } catch (error) {\n",
       "            console.error('Error during call to suggestCharts:', error);\n",
       "          }\n",
       "          quickchartButtonEl.classList.remove('colab-df-spinner');\n",
       "          quickchartButtonEl.classList.add('colab-df-quickchart-complete');\n",
       "        }\n",
       "        (() => {\n",
       "          let quickchartButtonEl =\n",
       "            document.querySelector('#df-1ccb6582-94fc-4d6c-895b-d8e6954d5514 button');\n",
       "          quickchartButtonEl.style.display =\n",
       "            google.colab.kernel.accessAllowed ? 'block' : 'none';\n",
       "        })();\n",
       "      </script>\n",
       "    </div>\n",
       "\n",
       "    </div>\n",
       "  </div>\n"
      ],
      "text/plain": [
       "                                               title      price  salon  \\\n",
       "1  66370-Vente Appt à Casablanca Hay Hassani de 1...  1195000.0    1.0   \n",
       "2           Appartement à vendre 81 m² à Dar Bouazza  1350000.0    1.0   \n",
       "3  63860-Vente Appt à Casablanca Quartier Bd Med ...   900000.0    1.0   \n",
       "6             Appartement à vendre 98 m² à Marrakech   760000.0    1.0   \n",
       "7  50620-Vente Appt à Casablanca Hay Mohammadi de 73   790000.0    1.0   \n",
       "\n",
       "   nb_rooms  nb_baths  surface_area  \\\n",
       "1       2.0       2.0          98.0   \n",
       "2       2.0       2.0          81.0   \n",
       "3       1.0       1.0          56.0   \n",
       "6       3.0       3.0          98.0   \n",
       "7       3.0       2.0          73.0   \n",
       "\n",
       "                                                link  Ascenseur  Balcon  \\\n",
       "1  https://www.avito.ma/fr/hay_hassani/appartemen...          1       1   \n",
       "2  https://www.avito.ma/fr/dar_bouazza/appartemen...          1       1   \n",
       "3  https://www.avito.ma/fr/centre_ville/apparteme...          1       0   \n",
       "6  https://www.avito.ma/fr/akioud/appartements/Ap...          1       1   \n",
       "7  https://www.avito.ma/fr/hay_mohammadi/appartem...          0       0   \n",
       "\n",
       "   Chauffage  Climatisation  Concierge  Cuisine Équipée  Duplex  Meublé  \\\n",
       "1          1              1          0                1       0       0   \n",
       "2          1              1          1                1       1       0   \n",
       "3          1              1          0                1       0       1   \n",
       "6          0              0          1                1       0       0   \n",
       "7          0              0          0                1       0       0   \n",
       "\n",
       "   Parking  Sécurité  Terrasse  Unknown  city_encoded  \n",
       "1        1         0         0        0            13  \n",
       "2        1         1         1        0            15  \n",
       "3        1         1         1        0            13  \n",
       "6        1         1         0        0            32  \n",
       "7        0         0         0        0            13  "
      ]
     },
     "execution_count": 35,
     "metadata": {},
     "output_type": "execute_result"
    }
   ],
   "source": [
    "df.head()"
   ]
  },
  {
   "cell_type": "markdown",
   "metadata": {
    "id": "b5a2570b"
   },
   "source": [
    "# 🏗️ Sélection des features, création des jeux d'entraînement et de test."
   ]
  },
  {
   "cell_type": "code",
   "execution_count": 36,
   "metadata": {
    "colab": {
     "base_uri": "https://localhost:8080/"
    },
    "id": "e_uXxOxsJPIb",
    "outputId": "ad552bd5-5e64-4dd5-8747-d1c4a3f937aa"
   },
   "outputs": [
    {
     "name": "stdout",
     "output_type": "stream",
     "text": [
      "X_train: (1237, 16)\n",
      "X_test : (310, 16)\n",
      "y_train: (1237,)\n",
      "y_test : (310,)\n"
     ]
    }
   ],
   "source": [
    "features = ['salon', 'nb_rooms', 'nb_baths', 'surface_area', 'city_encoded',\n",
    "            'Ascenseur', 'Balcon', 'Chauffage', 'Climatisation', 'Concierge',\n",
    "            'Cuisine Équipée', 'Duplex', 'Meublé', 'Parking', 'Sécurité', 'Terrasse']\n",
    "\n",
    "#  Variable cible (target) = price\n",
    "target = 'price'\n",
    "\n",
    "#  Créer X (features) et y (target)\n",
    "X = df_scaled[features]\n",
    "y = df_scaled[target]\n",
    "\n",
    "# Séparer les données : 80% train, 20% test\n",
    "from sklearn.model_selection import train_test_split\n",
    "\n",
    "X_train, X_test, y_train, y_test = train_test_split(X, y, test_size=0.2, random_state=42)\n",
    "\n",
    "# Afficher les tailles pour vérifier\n",
    "print(\"X_train:\", X_train.shape)\n",
    "print(\"X_test :\", X_test.shape)\n",
    "print(\"y_train:\", y_train.shape)\n",
    "print(\"y_test :\", y_test.shape)\n"
   ]
  },
  {
   "cell_type": "markdown",
   "metadata": {
    "id": "3822b83b"
   },
   "source": [
    "# 📈 Régression linéaire : entraînement, prédiction et évaluation."
   ]
  },
  {
   "cell_type": "code",
   "execution_count": 37,
   "metadata": {
    "colab": {
     "base_uri": "https://localhost:8080/"
    },
    "id": "hYlE9sLaKiHJ",
    "outputId": "e620a914-7c92-48b7-fac5-63f7cb54db16"
   },
   "outputs": [
    {
     "name": "stdout",
     "output_type": "stream",
     "text": [
      " Résultats du modèle LinearRegression :\n",
      "MAE  : 0.6085056639585783\n",
      "RMSE : 0.8102514884364145\n",
      "R²   : 0.28190760147765537\n"
     ]
    }
   ],
   "source": [
    "# 1. Importer le modèle\n",
    "from sklearn.linear_model import LinearRegression\n",
    "\n",
    "# 2. Créer l'objet modèle\n",
    "model_lr = LinearRegression()\n",
    "\n",
    "# 3. Entraîner le modèle (training)\n",
    "model_lr.fit(X_train, y_train)\n",
    "\n",
    "# 4. Prédire sur les données test\n",
    "y_pred = model_lr.predict(X_test)\n",
    "\n",
    "# 5. Importer les métriques d'évaluation\n",
    "from sklearn.metrics import mean_absolute_error, mean_squared_error, r2_score\n",
    "import numpy as np\n",
    "\n",
    "# 6. Calculer les métriques\n",
    "mae = mean_absolute_error(y_test, y_pred)\n",
    "rmse = np.sqrt(mean_squared_error(y_test, y_pred))\n",
    "r2 = r2_score(y_test, y_pred)\n",
    "\n",
    "# 7. Afficher les résultats\n",
    "print(\" Résultats du modèle LinearRegression :\")\n",
    "print(\"MAE  :\", mae)\n",
    "print(\"RMSE :\", rmse)\n",
    "print(\"R²   :\", r2)\n"
   ]
  },
  {
   "cell_type": "markdown",
   "metadata": {
    "id": "f0c9193e"
   },
   "source": [
    "# 🌳 Modèle Random Forest : entraînement, prédiction et évaluation."
   ]
  },
  {
   "cell_type": "code",
   "execution_count": 38,
   "metadata": {
    "colab": {
     "base_uri": "https://localhost:8080/"
    },
    "id": "ZbyvRaCLz_Wq",
    "outputId": "cd5396c9-ba85-4e77-cdad-af079c6e53bf"
   },
   "outputs": [
    {
     "name": "stdout",
     "output_type": "stream",
     "text": [
      "Résultats du modèle Random Forest:\n",
      "MAE  : 0.4942246563183172\n",
      "RMSE : 0.7322740167859584\n",
      "R²   : 0.4134731430002764\n"
     ]
    }
   ],
   "source": [
    "# 1. Importer le modèle\n",
    "from sklearn.ensemble import RandomForestRegressor\n",
    "\n",
    "# 2. Créer l'objet Random Forest\n",
    "model_rf = RandomForestRegressor(random_state=42)\n",
    "\n",
    "# 3. Entraîner le modèle\n",
    "model_rf.fit(X_train, y_train)\n",
    "\n",
    "# 4. Prédire sur le jeu de test\n",
    "y_pred_rf = model_rf.predict(X_test)\n",
    "\n",
    "# 5. Importer les métriques\n",
    "from sklearn.metrics import mean_absolute_error, mean_squared_error, r2_score\n",
    "import numpy as np\n",
    "\n",
    "# 6. Calculer les scores\n",
    "mae_rf = mean_absolute_error(y_test, y_pred_rf)\n",
    "rmse_rf = np.sqrt(mean_squared_error(y_test, y_pred_rf))\n",
    "r2_rf = r2_score(y_test, y_pred_rf)\n",
    "\n",
    "# 7. Afficher les résultats\n",
    "print(\"Résultats du modèle Random Forest:\")\n",
    "print(\"MAE  :\", mae_rf)\n",
    "print(\"RMSE :\", rmse_rf)\n",
    "print(\"R²   :\", r2_rf)\n"
   ]
  },
  {
   "cell_type": "markdown",
   "metadata": {
    "id": "57d39215"
   },
   "source": [
    "# 📉 Modèle SVR : entraînement, prédiction et évaluation."
   ]
  },
  {
   "cell_type": "code",
   "execution_count": 39,
   "metadata": {
    "colab": {
     "base_uri": "https://localhost:8080/"
    },
    "id": "hDdwIVnT1rhY",
    "outputId": "8645f958-eca5-486d-ea5f-b62f428de1d3"
   },
   "outputs": [
    {
     "name": "stdout",
     "output_type": "stream",
     "text": [
      "Résultats SVR :\n",
      "MAE  : 0.6249769404851373\n",
      "RMSE : 0.8374003454275748\n",
      "R²   : 0.23297958045206224\n"
     ]
    }
   ],
   "source": [
    "# 1. Importer SVR\n",
    "from sklearn.svm import SVR\n",
    "\n",
    "# 2. Créer le modèle SVR\n",
    "model_svr = SVR()\n",
    "\n",
    "# 3. Entraîner le modèle avec X_train et y_train\n",
    "model_svr.fit(X_train, y_train)\n",
    "\n",
    "# 4. Prédire sur X_test\n",
    "y_pred_svr = model_svr.predict(X_test)\n",
    "\n",
    "# 5. Calculer les métriques\n",
    "from sklearn.metrics import mean_absolute_error, mean_squared_error, r2_score\n",
    "import numpy as np\n",
    "\n",
    "mae_svr = mean_absolute_error(y_test, y_pred_svr)\n",
    "rmse_svr = np.sqrt(mean_squared_error(y_test, y_pred_svr))\n",
    "r2_svr = r2_score(y_test, y_pred_svr)\n",
    "\n",
    "# 6. Afficher les résultats\n",
    "print(\"Résultats SVR :\")\n",
    "print(\"MAE  :\", mae_svr)\n",
    "print(\"RMSE :\", rmse_svr)\n",
    "print(\"R²   :\", r2_svr)\n"
   ]
  },
  {
   "cell_type": "markdown",
   "metadata": {
    "id": "c3f61b73"
   },
   "source": [
    "# 🚀 Modèle Gradient Boosting : entraînement, prédiction et évaluation."
   ]
  },
  {
   "cell_type": "code",
   "execution_count": 40,
   "metadata": {
    "colab": {
     "base_uri": "https://localhost:8080/"
    },
    "id": "6qmzQXAS2AMt",
    "outputId": "167bbad7-7e2c-459b-e1ba-a8a1ed161651"
   },
   "outputs": [
    {
     "name": "stdout",
     "output_type": "stream",
     "text": [
      "Résultats Gradient Boosting :\n",
      "MAE  : 0.49357716906488003\n",
      "RMSE : 0.7277368246904196\n",
      "R²   : 0.42071890228409303\n"
     ]
    }
   ],
   "source": [
    "# 1. Importer le modèle\n",
    "from sklearn.ensemble import GradientBoostingRegressor\n",
    "\n",
    "# 2. Créer le modèle\n",
    "model_gb = GradientBoostingRegressor(random_state=42)\n",
    "\n",
    "# 3. Entraîner le modèle avec X_train et y_train\n",
    "model_gb.fit(X_train, y_train)\n",
    "\n",
    "# 4. Prédire sur X_test\n",
    "y_pred_gb = model_gb.predict(X_test)\n",
    "\n",
    "# 5. Calculer les métriques\n",
    "from sklearn.metrics import mean_absolute_error, mean_squared_error, r2_score\n",
    "import numpy as np\n",
    "\n",
    "mae_gb = mean_absolute_error(y_test, y_pred_gb)\n",
    "rmse_gb = np.sqrt(mean_squared_error(y_test, y_pred_gb))\n",
    "r2_gb = r2_score(y_test, y_pred_gb)\n",
    "\n",
    "# 6. Afficher les résultats\n",
    "print(\"Résultats Gradient Boosting :\")\n",
    "print(\"MAE  :\", mae_gb)\n",
    "print(\"RMSE :\", rmse_gb)\n",
    "print(\"R²   :\", r2_gb)\n"
   ]
  },
  {
   "cell_type": "markdown",
   "metadata": {
    "id": "48d93bb3"
   },
   "source": [
    "# 🔎 Optimisation des hyperparamètres du Gradient Boosting avec RandomizedSearchCV."
   ]
  },
  {
   "cell_type": "code",
   "execution_count": 41,
   "metadata": {
    "colab": {
     "base_uri": "https://localhost:8080/"
    },
    "id": "YasOd5OdEIPw",
    "outputId": "c3b02e66-b760-48e9-9e49-387c2274f963"
   },
   "outputs": [
    {
     "name": "stdout",
     "output_type": "stream",
     "text": [
      "Fitting 5 folds for each of 30 candidates, totalling 150 fits\n",
      "🔍 Meilleurs hyperparamètres : {'subsample': np.float64(0.6444444444444444), 'n_estimators': np.int64(110), 'max_depth': 4, 'learning_rate': np.float64(0.049999999999999996)}\n",
      "📈 Meilleur score R² (cross-validation) : 0.36436651083205407\n",
      "📊 Résultats sur test set :\n",
      "MAE  : 0.4908945452954253\n",
      "RMSE : 0.7237407262026844\n",
      "R²   : 0.4270632526817263\n"
     ]
    }
   ],
   "source": [
    "from sklearn.ensemble import GradientBoostingRegressor\n",
    "from sklearn.model_selection import RandomizedSearchCV\n",
    "from sklearn.metrics import mean_absolute_error, mean_squared_error, r2_score\n",
    "import numpy as np\n",
    "\n",
    "# Modèle de base\n",
    "gb = GradientBoostingRegressor(random_state=42)\n",
    "\n",
    "# Espace de recherche élargi\n",
    "param_dist = {\n",
    "    'n_estimators': np.arange(50, 300, 10),\n",
    "    'learning_rate': np.linspace(0.01, 0.3, 30),\n",
    "    'max_depth': [3, 4, 5, 6, 7],\n",
    "    'subsample': np.linspace(0.6, 1.0, 10)\n",
    "}\n",
    "\n",
    "# Configuration de la recherche\n",
    "random_search = RandomizedSearchCV(\n",
    "    estimator=gb,\n",
    "    param_distributions=param_dist,\n",
    "    n_iter=30,\n",
    "    cv=5,\n",
    "    scoring='r2',\n",
    "    n_jobs=-1,\n",
    "    verbose=2,\n",
    "    random_state=42\n",
    ")\n",
    "\n",
    "# Entraînement\n",
    "random_search.fit(X_train, y_train)\n",
    "\n",
    "# Évaluation\n",
    "best_random = random_search.best_estimator_\n",
    "y_pred_random = best_random.predict(X_test)\n",
    "\n",
    "mae_random = mean_absolute_error(y_test, y_pred_random)\n",
    "rmse_random = np.sqrt(mean_squared_error(y_test, y_pred_random))\n",
    "r2_random = r2_score(y_test, y_pred_random)\n",
    "\n",
    "# Affichage des résultats\n",
    "print(\"🔍 Meilleurs hyperparamètres :\", random_search.best_params_)\n",
    "print(\"📈 Meilleur score R² (cross-validation) :\", random_search.best_score_)\n",
    "print(\"📊 Résultats sur test set :\")\n",
    "print(\"MAE  :\", mae_random)\n",
    "print(\"RMSE :\", rmse_random)\n",
    "print(\"R²   :\", r2_random)\n"
   ]
  },
  {
   "cell_type": "markdown",
   "metadata": {
    "id": "49719259"
   },
   "source": [
    "# 📈 Visualisation : comparaison des prix réels et prédits (Gradient Boosting)."
   ]
  },
  {
   "cell_type": "code",
   "execution_count": 42,
   "metadata": {
    "colab": {
     "base_uri": "https://localhost:8080/",
     "height": 565
    },
    "id": "kZ_xsNOU-Guw",
    "outputId": "b2a90a1b-30dd-40d8-c005-1e17c7cd8225"
   },
   "outputs": [
    {
     "data": {
      "image/png": "[encoded data removed]",
      "text/plain": [
       "<Figure size 800x600 with 1 Axes>"
      ]
     },
     "metadata": {},
     "output_type": "display_data"
    }
   ],
   "source": [
    "import matplotlib.pyplot as plt\n",
    "import seaborn as sns\n",
    "\n",
    "plt.figure(figsize=(8, 6))\n",
    "sns.scatterplot(x=y_test, y=y_pred_random, alpha=0.6)\n",
    "plt.plot([y_test.min(), y_test.max()], [y_test.min(), y_test.max()], color='red', linestyle='--')\n",
    "plt.xlabel(\"Prix réel (y_test)\")\n",
    "plt.ylabel(\"Prix prédit (y_pred)\")\n",
    "plt.title(\"Réel vs Prédit - Gradient Boosting\")\n",
    "plt.grid(True)\n",
    "plt.show()\n"
   ]
  },
  {
   "cell_type": "markdown",
   "metadata": {
    "id": "3c6b7d26"
   },
   "source": [
    "# 📊 Visualisation de l'importance des variables dans le modèle Gradient Boosting."
   ]
  },
  {
   "cell_type": "code",
   "execution_count": 43,
   "metadata": {
    "colab": {
     "base_uri": "https://localhost:8080/",
     "height": 564
    },
    "id": "riMgW5hYFhsa",
    "outputId": "bfa7cd36-eb3b-442d-c227-3a676ff0f92e"
   },
   "outputs": [
    {
     "data": {
      "image/png": "[encoded data removed]",
      "text/plain": [
       "<Figure size 1000x600 with 1 Axes>"
      ]
     },
     "metadata": {},
     "output_type": "display_data"
    }
   ],
   "source": [
    "import pandas as pd\n",
    "\n",
    "# Importance des features\n",
    "importances = best_random.feature_importances_\n",
    "features = X.columns  # les noms des colonnes\n",
    "importance_df = pd.DataFrame({'Feature': features, 'Importance': importances})\n",
    "importance_df = importance_df.sort_values(by='Importance', ascending=False)\n",
    "\n",
    "# Affichage\n",
    "plt.figure(figsize=(10, 6))\n",
    "sns.barplot(x='Importance', y='Feature', data=importance_df)\n",
    "plt.title(\"Importance des variables - Gradient Boosting\")\n",
    "plt.xlabel(\"Importance\")\n",
    "plt.ylabel(\"Variable\")\n",
    "plt.show()\n"
   ]
  },
  {
   "cell_type": "markdown",
   "id": "719c199f",
   "metadata": {},
   "source": [
    "# 🏗️ Ajout de nouvelles features : prix au mètre carré et extraction de mots-clés du titre (feature engineering)."
   ]
  },
  {
   "cell_type": "code",
   "execution_count": 44,
   "metadata": {
    "id": "KEBt_lqykN9F"
   },
   "outputs": [],
   "source": [
    "# Add price per square meter\n",
    "df['price_per_m2'] = df['price'] / df['surface_area']\n",
    "\n",
    "# Extract keywords from title (example: 'luxe', 'neuf', 'meublé')\n",
    "import numpy as np\n",
    "\n",
    "def extract_keyword(title, keyword):\n",
    "    if pd.isnull(title):\n",
    "        return 0\n",
    "    return int(keyword.lower() in title.lower())\n",
    "\n",
    "keywords = ['luxe', 'neuf', 'meublé', 'piscine', 'terrasse']\n",
    "for kw in keywords:\n",
    "    df[f'kw_{kw}'] = df['title'].apply(lambda x: extract_keyword(x, kw))"
   ]
  },
  {
   "cell_type": "markdown",
   "id": "7f986645",
   "metadata": {},
   "source": [
    "# 🏷️ Encodage cible (target encoding) pour la ville : ajout de la moyenne des prix par ville comme nouvelle variable."
   ]
  },
  {
   "cell_type": "code",
   "execution_count": 45,
   "metadata": {
    "id": "5vuj2po3kRq6"
   },
   "outputs": [],
   "source": [
    "# Target encoding for city_name\n",
    "city_target_mean = df.groupby('city_encoded')['price'].mean()\n",
    "df['city_target_enc'] = df['city_encoded'].map(city_target_mean)"
   ]
  },
  {
   "cell_type": "markdown",
   "id": "90f924f0",
   "metadata": {},
   "source": [
    "# 🏗️ Mise à jour de la liste des variables explicatives (features) pour inclure les nouvelles variables créées."
   ]
  },
  {
   "cell_type": "code",
   "execution_count": 46,
   "metadata": {
    "id": "I81mr-A6kVRz"
   },
   "outputs": [],
   "source": [
    "# Update features list\n",
    "features = [\n",
    "    'salon', 'nb_rooms', 'nb_baths', 'surface_area', 'price_per_m2',\n",
    "    'city_encoded', 'city_target_enc'\n",
    "] + [col for col in df.columns if col.startswith('kw_')] + [\n",
    "    col for col in df.columns if col in [\n",
    "        'Ascenseur', 'Balcon', 'Chauffage', 'Climatisation', 'Concierge',\n",
    "        'Cuisine Équipée', 'Duplex', 'Meublé', 'Parking', 'Sécurité', 'Terrasse'\n",
    "    ]\n",
    "]\n",
    "\n",
    "# Remove any duplicates in features\n",
    "features = list(dict.fromkeys(features))\n",
    "\n",
    "# Prepare X and y\n",
    "X = df[features]\n",
    "y = df['price']"
   ]
  },
  {
   "cell_type": "markdown",
   "id": "cc988c4a",
   "metadata": {},
   "source": [
    "# 🏗️ Nouvelle séparation des données en jeux d'entraînement et de test avec les nouvelles features."
   ]
  },
  {
   "cell_type": "code",
   "execution_count": 47,
   "metadata": {
    "id": "eC3ObMGHkbQ3"
   },
   "outputs": [],
   "source": [
    "from sklearn.model_selection import train_test_split\n",
    "\n",
    "X_train, X_test, y_train, y_test = train_test_split(\n",
    "    X, y, test_size=0.2, random_state=42\n",
    ")"
   ]
  },
  {
   "cell_type": "markdown",
   "id": "e42dbb81",
   "metadata": {},
   "source": [
    "# 🚀 Entraînement et évaluation du modèle XGBoost pour la prédiction du prix."
   ]
  },
  {
   "cell_type": "code",
   "execution_count": 48,
   "metadata": {
    "colab": {
     "base_uri": "https://localhost:8080/"
    },
    "id": "2Bu1b3wPkclP",
    "outputId": "ffe67845-72e9-421c-a844-b13afae41f14"
   },
   "outputs": [
    {
     "name": "stdout",
     "output_type": "stream",
     "text": [
      "XGBoost Results:\n",
      "MAE : 24322.499777910787\n",
      "RMSE: 38485.47883739426\n",
      "R²  : 0.9918004329002912\n"
     ]
    }
   ],
   "source": [
    "\n",
    "import xgboost as xgb\n",
    "from sklearn.metrics import mean_absolute_error, mean_squared_error, r2_score\n",
    "\n",
    "model_xgb = xgb.XGBRegressor(\n",
    "    n_estimators=200,\n",
    "    learning_rate=0.1,\n",
    "    max_depth=6,\n",
    "    subsample=0.8,\n",
    "    colsample_bytree=0.8,\n",
    "    random_state=42\n",
    ")\n",
    "\n",
    "model_xgb.fit(X_train, y_train)\n",
    "y_pred_xgb = model_xgb.predict(X_test)\n",
    "\n",
    "mae_xgb = mean_absolute_error(y_test, y_pred_xgb)\n",
    "rmse_xgb = np.sqrt(mean_squared_error(y_test, y_pred_xgb))\n",
    "r2_xgb = r2_score(y_test, y_pred_xgb)\n",
    "\n",
    "print(\"XGBoost Results:\")\n",
    "print(\"MAE :\", mae_xgb)\n",
    "print(\"RMSE:\", rmse_xgb)\n",
    "print(\"R²  :\", r2_xgb)"
   ]
  },
  {
   "cell_type": "markdown",
   "id": "43a32dbd",
   "metadata": {},
   "source": [
    "# 📊 Évaluation de l'overfitting : comparaison du score R² sur le train et le test pour XGBoost."
   ]
  },
  {
   "cell_type": "code",
   "execution_count": 49,
   "metadata": {
    "colab": {
     "base_uri": "https://localhost:8080/"
    },
    "id": "DW1-nq8dkqjO",
    "outputId": "9c4fa534-a53f-463f-d636-5a07ac48f7f1"
   },
   "outputs": [
    {
     "name": "stdout",
     "output_type": "stream",
     "text": [
      "Train R²: 0.9998299817643258\n",
      "Test R² : 0.9918004329002912\n"
     ]
    }
   ],
   "source": [
    "    y_train_pred = model_xgb.predict(X_train)\n",
    "    print(\"Train R²:\", r2_score(y_train, y_train_pred))\n",
    "    print(\"Test R² :\", r2_score(y_test, y_pred_xgb))"
   ]
  },
  {
   "cell_type": "markdown",
   "id": "a2f8b14c",
   "metadata": {},
   "source": [
    "# 📈 Visualisation : comparaison des prix réels et prédits avec XGBoost."
   ]
  },
  {
   "cell_type": "code",
   "execution_count": 50,
   "metadata": {
    "colab": {
     "base_uri": "https://localhost:8080/",
     "height": 487
    },
    "id": "dYVNQDajlP9H",
    "outputId": "d6430023-c94d-4989-a216-7b8ce678af33"
   },
   "outputs": [
    {
     "data": {
      "image/png": "[encoded data removed]",
      "text/plain": [
       "<Figure size 800x500 with 1 Axes>"
      ]
     },
     "metadata": {},
     "output_type": "display_data"
    }
   ],
   "source": [
    "plt.figure(figsize=(8,5))\n",
    "plt.scatter(y_test, y_pred_xgb, alpha=0.5)\n",
    "plt.plot([y_test.min(), y_test.max()], [y_test.min(), y_test.max()], color='red', linestyle='--')\n",
    "plt.xlabel(\"Actual Price\")\n",
    "plt.ylabel(\"Predicted Price\")\n",
    "plt.title(\"Predicted vs Actual Price\")\n",
    "plt.show()"
   ]
  },
  {
   "cell_type": "markdown",
   "id": "29a3839b",
   "metadata": {},
   "source": [
    "# 📊 Visualisation de l'importance des variables dans le modèle XGBoost (top 15)."
   ]
  },
  {
   "cell_type": "code",
   "execution_count": 51,
   "metadata": {
    "colab": {
     "base_uri": "https://localhost:8080/",
     "height": 472
    },
    "id": "4phPWfQ4lTIg",
    "outputId": "2f0fb732-fb6c-4495-eb1b-a902abd756ba"
   },
   "outputs": [
    {
     "data": {
      "image/png": "[encoded data removed]",
      "text/plain": [
       "<Figure size 640x480 with 1 Axes>"
      ]
     },
     "metadata": {},
     "output_type": "display_data"
    }
   ],
   "source": [
    "import xgboost as xgb\n",
    "\n",
    "xgb.plot_importance(model_xgb, max_num_features=15, height=0.5)\n",
    "plt.title(\"Top 15 Feature Importances (XGBoost)\")\n",
    "plt.show()"
   ]
  },
  {
   "cell_type": "markdown",
   "id": "52a47648",
   "metadata": {},
   "source": [
    "# Validation croisée (cross-validation) du modèle XGBoost pour évaluer la robustesse du modèle."
   ]
  },
  {
   "cell_type": "code",
   "execution_count": 63,
   "metadata": {
    "colab": {
     "base_uri": "https://localhost:8080/"
    },
    "id": "jOvIlzZXAv48",
    "outputId": "a6e304b1-9c03-4222-96e4-a850d33da8d1"
   },
   "outputs": [
    {
     "name": "stdout",
     "output_type": "stream",
     "text": [
      "R² scores for each fold: [0.98931853 0.99074634 0.99213005 0.98882097 0.98503991]\n",
      "Average R²: 0.9892111590592529\n"
     ]
    }
   ],
   "source": [
    "    from sklearn.model_selection import cross_val_score\n",
    "\n",
    "    scores = cross_val_score(model_xgb, X, y, cv=5, scoring='r2')\n",
    "    print(\"R² scores for each fold:\", scores)\n",
    "    print(\"Average R²:\", scores.mean())"
   ]
  },
  {
   "cell_type": "markdown",
   "id": "6f6790c1",
   "metadata": {},
   "source": [
    "# 💾 Sauvegarde du modèle XGBoost entraîné pour une utilisation ultérieure."
   ]
  },
  {
   "cell_type": "code",
   "execution_count": 62,
   "metadata": {
    "colab": {
     "base_uri": "https://localhost:8080/"
    },
    "id": "GMMpZknnlnH1",
    "outputId": "aa9f4fc4-a62d-44db-9f49-11bea02121c3"
   },
   "outputs": [
    {
     "data": {
      "text/plain": [
       "['final_modele.joblib']"
      ]
     },
     "execution_count": 62,
     "metadata": {},
     "output_type": "execute_result"
    }
   ],
   "source": [
    "import joblib\n",
    "joblib.dump(model_xgb, \"final_modele.joblib\")"
   ]
  }
 ],
 "metadata": {
  "accelerator": "GPU",
  "colab": {
   "gpuType": "T4",
   "provenance": []
  },
  "kernelspec": {
   "display_name": "Python 3",
   "name": "python3"
  },
  "language_info": {
   "name": "python"
  }
 },
 "nbformat": 4,
 "nbformat_minor": 0
}
